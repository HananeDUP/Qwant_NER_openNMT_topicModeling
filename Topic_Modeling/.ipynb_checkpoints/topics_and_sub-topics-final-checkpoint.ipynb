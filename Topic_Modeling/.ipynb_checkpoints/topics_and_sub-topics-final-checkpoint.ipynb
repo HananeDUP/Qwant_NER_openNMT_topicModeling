{
 "cells": [
  {
   "cell_type": "code",
   "execution_count": 1,
   "metadata": {},
   "outputs": [],
   "source": [
    "import pandas as pd\n",
    "import numpy as np\n",
    "import datetime as dt\n",
    "from time import time\n",
    "import re\n",
    "import pickle\n",
    "import os\n",
    "import matplotlib.pyplot as plt\n",
    "import seaborn as sns\n",
    "sns.set()\n",
    "\n",
    "from sklearn.feature_extraction.text import TfidfVectorizer, CountVectorizer\n",
    "from sklearn.decomposition import NMF, LatentDirichletAllocation\n",
    "from nltk.corpus import stopwords\n",
    "from sklearn.model_selection import train_test_split\n",
    "from sklearn.ensemble import ExtraTreesClassifier\n",
    "from sklearn.metrics import accuracy_score"
   ]
  },
  {
   "cell_type": "markdown",
   "metadata": {},
   "source": [
    "# PARAMETERS"
   ]
  },
  {
   "cell_type": "code",
   "execution_count": 3,
   "metadata": {},
   "outputs": [],
   "source": [
    "# Load raw data\n",
    "Path = \"C:\\\\Users\\\\Hanane\\\\Documents\\\\Python_Scripts\\\\TelecomParis\\\\Qwant\\\\dataset_corpus_news\\\\big_file_split\"\n",
    "\n",
    "#Path to store results\n",
    "path_results='./final_results_2/'\n",
    "\n",
    "#For additional stopwords\n",
    "quantile_min=0.1\n",
    "quantile_max=0.985\n",
    "\n",
    "#Params NMF,LDA and vectorization\n",
    "n_topics_principal=10\n",
    "n_sub_topics=7\n",
    "n_vocabulary_vectorizer=1000\n",
    "\n",
    "#classification\n",
    "n_trees_clf=10\n",
    "\n",
    "#save results\n",
    "file_principal_topic_evol=\"data_principal_topic.csv\"\n",
    "file_principal_topic_desc_nmf=\"desc_principal_topics.csv\"\n",
    "file_principal_topic_desc_all=\"global_topics_desc_10.csv\"\n",
    "\n",
    "file_sub_topics_evol=\"data_sub_topics.csv\"\n",
    "file_sub_topics_desc=\"desc_topics_sub_topics.csv\"\n",
    "\n",
    "file_final_topics_subtopics=\"final_dataset_topics_sub_topics.csv\""
   ]
  },
  {
   "cell_type": "markdown",
   "metadata": {},
   "source": [
    "# LOAD RAW DATA"
   ]
  },
  {
   "cell_type": "markdown",
   "metadata": {},
   "source": [
    "## Load raw data splited"
   ]
  },
  {
   "cell_type": "code",
   "execution_count": 4,
   "metadata": {},
   "outputs": [
    {
     "name": "stdout",
     "output_type": "stream",
     "text": [
      "(62420, 5)\n",
      "month_2019_11_1.json done in 20.426s.\n",
      "(62416, 5)\n",
      "month_2019_11_10.json done in 17.069s.\n",
      "(62420, 5)\n",
      "month_2019_11_2.json done in 16.264s.\n",
      "(62420, 5)\n",
      "month_2019_11_3.json done in 20.462s.\n",
      "(62420, 5)\n",
      "month_2019_11_4.json done in 22.417s.\n",
      "(62420, 5)\n",
      "month_2019_11_5.json done in 30.526s.\n",
      "(62420, 5)\n",
      "month_2019_11_6.json done in 42.690s.\n",
      "(62420, 5)\n",
      "month_2019_11_7.json done in 78.029s.\n",
      "(62420, 5)\n",
      "month_2019_11_8.json done in 18.641s.\n",
      "(62420, 5)\n",
      "month_2019_11_9.json done in 103.879s.\n",
      "Wall time: 6min 10s\n"
     ]
    },
    {
     "data": {
      "text/plain": [
       "(624196, 5)"
      ]
     },
     "execution_count": 4,
     "metadata": {},
     "output_type": "execute_result"
    }
   ],
   "source": [
    "%%time\n",
    "import os\n",
    "filelist = os.listdir(Path)\n",
    "df_global=pd.DataFrame()\n",
    "for i in filelist:\n",
    "    t0 = time()\n",
    "    if i.endswith(\".json\"):  # You could also add \"and i.startswith('f')\n",
    "        df=pd.read_json(Path + \"\\\\\"+i, lines=True)\n",
    "        df_global=pd.concat([df_global,df], ignore_index=True)\n",
    "        print(df.shape)\n",
    "    print(i, \"done in %0.3fs.\" % (time() - t0))\n",
    "df_global.shape"
   ]
  },
  {
   "cell_type": "markdown",
   "metadata": {},
   "source": [
    "## Create dates columns"
   ]
  },
  {
   "cell_type": "code",
   "execution_count": 5,
   "metadata": {},
   "outputs": [
    {
     "name": "stdout",
     "output_type": "stream",
     "text": [
      "(624196, 20)\n",
      "95.367s.\n",
      "Wall time: 4min 4s\n"
     ]
    },
    {
     "data": {
      "text/html": [
       "<div>\n",
       "<style scoped>\n",
       "    .dataframe tbody tr th:only-of-type {\n",
       "        vertical-align: middle;\n",
       "    }\n",
       "\n",
       "    .dataframe tbody tr th {\n",
       "        vertical-align: top;\n",
       "    }\n",
       "\n",
       "    .dataframe thead th {\n",
       "        text-align: right;\n",
       "    }\n",
       "</style>\n",
       "<table border=\"1\" class=\"dataframe\">\n",
       "  <thead>\n",
       "    <tr style=\"text-align: right;\">\n",
       "      <th></th>\n",
       "      <th>metaData</th>\n",
       "      <th>hashSignature</th>\n",
       "      <th>title</th>\n",
       "      <th>region</th>\n",
       "      <th>domain</th>\n",
       "      <th>media</th>\n",
       "      <th>mobile</th>\n",
       "      <th>index_date</th>\n",
       "      <th>category</th>\n",
       "      <th>boost</th>\n",
       "      <th>...</th>\n",
       "      <th>lastmod</th>\n",
       "      <th>slug</th>\n",
       "      <th>date</th>\n",
       "      <th>year</th>\n",
       "      <th>month</th>\n",
       "      <th>day</th>\n",
       "      <th>hour</th>\n",
       "      <th>minute</th>\n",
       "      <th>second</th>\n",
       "      <th>text</th>\n",
       "    </tr>\n",
       "  </thead>\n",
       "  <tbody>\n",
       "    <tr>\n",
       "      <th>0</th>\n",
       "      <td>{}</td>\n",
       "      <td>[]</td>\n",
       "      <td>Comment berner un système de reconnaissance d’...</td>\n",
       "      <td></td>\n",
       "      <td>sciencesetavenir.fr</td>\n",
       "      <td>https://www.sciencesetavenir.fr/assets/img/201...</td>\n",
       "      <td>https://www.sciencesetavenir.fr/high-tech/inte...</td>\n",
       "      <td>1572792800</td>\n",
       "      <td>tech</td>\n",
       "      <td>1.0</td>\n",
       "      <td>...</td>\n",
       "      <td>2019-11-03 14:00:00</td>\n",
       "      <td>NaN</td>\n",
       "      <td>2019-11-03 15:00:00</td>\n",
       "      <td>2019</td>\n",
       "      <td>11</td>\n",
       "      <td>3</td>\n",
       "      <td>15</td>\n",
       "      <td>0</td>\n",
       "      <td>0</td>\n",
       "      <td>Comment berner un système de reconnaissance d’...</td>\n",
       "    </tr>\n",
       "    <tr>\n",
       "      <th>1</th>\n",
       "      <td>{}</td>\n",
       "      <td>[]</td>\n",
       "      <td>Le grand huit de Christopher Bell au Texas</td>\n",
       "      <td></td>\n",
       "      <td>us-racing.com</td>\n",
       "      <td>http://www.us-racing.com/wp-content/uploads/20...</td>\n",
       "      <td>http://www.us-racing.com/2019/11/03/le-grand-h...</td>\n",
       "      <td>1572792801</td>\n",
       "      <td>sports</td>\n",
       "      <td>1.0</td>\n",
       "      <td>...</td>\n",
       "      <td>2019-11-03 14:02:38</td>\n",
       "      <td>NaN</td>\n",
       "      <td>2019-11-03 15:02:38</td>\n",
       "      <td>2019</td>\n",
       "      <td>11</td>\n",
       "      <td>3</td>\n",
       "      <td>15</td>\n",
       "      <td>2</td>\n",
       "      <td>38</td>\n",
       "      <td>Le grand huit de Christopher Bell au Texas NHR...</td>\n",
       "    </tr>\n",
       "  </tbody>\n",
       "</table>\n",
       "<p>2 rows × 28 columns</p>\n",
       "</div>"
      ],
      "text/plain": [
       "  metaData hashSignature                                              title  \\\n",
       "0       {}            []  Comment berner un système de reconnaissance d’...   \n",
       "1       {}            []         Le grand huit de Christopher Bell au Texas   \n",
       "\n",
       "  region               domain  \\\n",
       "0         sciencesetavenir.fr   \n",
       "1               us-racing.com   \n",
       "\n",
       "                                               media  \\\n",
       "0  https://www.sciencesetavenir.fr/assets/img/201...   \n",
       "1  http://www.us-racing.com/wp-content/uploads/20...   \n",
       "\n",
       "                                              mobile  index_date category  \\\n",
       "0  https://www.sciencesetavenir.fr/high-tech/inte...  1572792800     tech   \n",
       "1  http://www.us-racing.com/2019/11/03/le-grand-h...  1572792801   sports   \n",
       "\n",
       "   boost  ...              lastmod  slug                date  year month  day  \\\n",
       "0    1.0  ...  2019-11-03 14:00:00   NaN 2019-11-03 15:00:00  2019    11    3   \n",
       "1    1.0  ...  2019-11-03 14:02:38   NaN 2019-11-03 15:02:38  2019    11    3   \n",
       "\n",
       "  hour minute second                                               text  \n",
       "0   15      0      0  Comment berner un système de reconnaissance d’...  \n",
       "1   15      2     38  Le grand huit de Christopher Bell au Texas NHR...  \n",
       "\n",
       "[2 rows x 28 columns]"
      ]
     },
     "execution_count": 5,
     "metadata": {},
     "output_type": "execute_result"
    }
   ],
   "source": [
    "%%time\n",
    "source=pd.DataFrame.from_records(df_global['_source'])\n",
    "print(source.shape)\n",
    "### Convert timestamp to a date, to analyse results\n",
    "time0=time()\n",
    "source['date']=source['timestamp'].apply(lambda x: dt.datetime.fromtimestamp(x))\n",
    "source['year'] = source['date'].dt.year\n",
    "source['month'] = source['date'].dt.month\n",
    "source['day'] = source['date'].dt.day\n",
    "source['hour'] = source['date'].dt.hour\n",
    "source['minute'] = source['date'].dt.minute\n",
    "source['second'] = source['date'].dt.second\n",
    "source['text']=source['title']+\" \"+source['body']\n",
    "print(\"%0.3fs.\" % (time() - time0))\n",
    "source.head(2)"
   ]
  },
  {
   "cell_type": "code",
   "execution_count": 6,
   "metadata": {},
   "outputs": [
    {
     "name": "stdout",
     "output_type": "stream",
     "text": [
      "624196\n"
     ]
    },
    {
     "data": {
      "text/html": [
       "<div>\n",
       "<style scoped>\n",
       "    .dataframe tbody tr th:only-of-type {\n",
       "        vertical-align: middle;\n",
       "    }\n",
       "\n",
       "    .dataframe tbody tr th {\n",
       "        vertical-align: top;\n",
       "    }\n",
       "\n",
       "    .dataframe thead th {\n",
       "        text-align: right;\n",
       "    }\n",
       "</style>\n",
       "<table border=\"1\" class=\"dataframe\">\n",
       "  <thead>\n",
       "    <tr style=\"text-align: right;\">\n",
       "      <th></th>\n",
       "      <th>date</th>\n",
       "    </tr>\n",
       "    <tr>\n",
       "      <th>category</th>\n",
       "      <th></th>\n",
       "    </tr>\n",
       "  </thead>\n",
       "  <tbody>\n",
       "    <tr>\n",
       "      <th></th>\n",
       "      <td>244399</td>\n",
       "    </tr>\n",
       "    <tr>\n",
       "      <th>sports</th>\n",
       "      <td>113371</td>\n",
       "    </tr>\n",
       "    <tr>\n",
       "      <th>economy</th>\n",
       "      <td>46469</td>\n",
       "    </tr>\n",
       "    <tr>\n",
       "      <th>department</th>\n",
       "      <td>33665</td>\n",
       "    </tr>\n",
       "    <tr>\n",
       "      <th>world</th>\n",
       "      <td>32423</td>\n",
       "    </tr>\n",
       "  </tbody>\n",
       "</table>\n",
       "</div>"
      ],
      "text/plain": [
       "              date\n",
       "category          \n",
       "            244399\n",
       "sports      113371\n",
       "economy      46469\n",
       "department   33665\n",
       "world        32423"
      ]
     },
     "execution_count": 6,
     "metadata": {},
     "output_type": "execute_result"
    }
   ],
   "source": [
    "df_groupby=source.groupby('category')[['date']].count().sort_values(by=\"date\",ascending=False)#.plot(kind='pie')\n",
    "print(df_groupby['date'].sum())\n",
    "df_groupby.head()"
   ]
  },
  {
   "cell_type": "code",
   "execution_count": 7,
   "metadata": {},
   "outputs": [
    {
     "name": "stdout",
     "output_type": "stream",
     "text": [
      "0.18162724528833893\n",
      "0.07444616754993624\n"
     ]
    },
    {
     "data": {
      "text/plain": [
       "0.39154207973136645"
      ]
     },
     "execution_count": 7,
     "metadata": {},
     "output_type": "execute_result"
    }
   ],
   "source": [
    "print(113371/624196)\n",
    "print(46469/624196)\n",
    "244399/624196"
   ]
  },
  {
   "cell_type": "markdown",
   "metadata": {},
   "source": [
    "# DATA MODIFIED"
   ]
  },
  {
   "cell_type": "markdown",
   "metadata": {},
   "source": [
    "## Preprocessing Data"
   ]
  },
  {
   "cell_type": "markdown",
   "metadata": {},
   "source": [
    "### Remove punctuation, remove words with length <=2, build dico length 3 and 4"
   ]
  },
  {
   "cell_type": "code",
   "execution_count": 8,
   "metadata": {},
   "outputs": [],
   "source": [
    "from nltk.tokenize import RegexpTokenizer\n",
    "tokenizer = RegexpTokenizer(r'\\w+')"
   ]
  },
  {
   "cell_type": "code",
   "execution_count": 9,
   "metadata": {},
   "outputs": [],
   "source": [
    "def preprocessing(array_text):\n",
    "    tokens_all=[]\n",
    "    tokens_all_test=[]\n",
    "    word_3_dict={}\n",
    "    word_4_dict={}\n",
    "    for doc in array_text:\n",
    "        tokens=tokenizer.tokenize(doc)\n",
    "        tokens_mod=[token.lower() for token in tokens if len(token)>2 and not token.isdigit()]\n",
    "        for word in tokens_mod:\n",
    "            if len(word)==3:\n",
    "                if word.lower() in word_3_dict.keys():\n",
    "                    word_3_dict[word.lower()]+=1\n",
    "                else:\n",
    "                    word_3_dict[word.lower()]=1\n",
    "            elif len(word)==4:\n",
    "                if word.lower() in word_4_dict.keys():\n",
    "                    word_4_dict[word.lower()]+=1\n",
    "                else:\n",
    "                    word_4_dict[word.lower()]=1\n",
    "        tokens_all.append(' '.join(tokens_mod))\n",
    "    return tokens_all, word_3_dict, word_4_dict"
   ]
  },
  {
   "cell_type": "code",
   "execution_count": 10,
   "metadata": {},
   "outputs": [
    {
     "name": "stdout",
     "output_type": "stream",
     "text": [
      "Wall time: 5min 6s\n"
     ]
    }
   ],
   "source": [
    "%%time\n",
    "tokens_all, word_3_dict, word_4_dict = preprocessing(source.loc[:,'text'])\n",
    "# Wall time: 4min 41s"
   ]
  },
  {
   "cell_type": "markdown",
   "metadata": {},
   "source": [
    "### Additional Stop words from data"
   ]
  },
  {
   "cell_type": "markdown",
   "metadata": {},
   "source": [
    "From dico length 3 and 4, get list of words not to keep (to be used in stop words)"
   ]
  },
  {
   "cell_type": "code",
   "execution_count": 11,
   "metadata": {},
   "outputs": [],
   "source": [
    "quantile_min=0.1\n",
    "quantile_max=0.985\n",
    "def additional_stop_words(word_3_dict,word_4_dict,quantile_min,quantile_max):\n",
    "    #******************Use dict_3 and dict_4 from  of words not to keep=\n",
    "    dict_3_words_inv={v:k for k,v in word_3_dict.items()}\n",
    "    quantile_3_max=int(np.quantile(sorted(dict_3_words_inv.keys()),quantile_max))\n",
    "    quantile_3_min=int(np.quantile(sorted(dict_3_words_inv.keys()),quantile_min))\n",
    "    print(quantile_3_min,quantile_3_max)\n",
    "\n",
    "    dict_4_words_inv={v:k for k,v in word_4_dict.items()}\n",
    "    quantile_4_max=int(np.quantile(sorted(dict_4_words_inv.keys()),quantile_max))\n",
    "    quantile_4_min=int(np.quantile(sorted(dict_4_words_inv.keys()),quantile_min))\n",
    "    print(quantile_4_min,quantile_4_max)\n",
    "\n",
    "    dict_loop=[dict_3_words_inv,dict_4_words_inv]\n",
    "    quantiles=[(quantile_3_min,quantile_3_max),(quantile_4_min,quantile_4_max)]\n",
    "    \n",
    "    \n",
    "    #******************List of words not to keep==> to put in stopwords********\n",
    "    word_not_to_keep=[]\n",
    "    word_not_to_keep_list=[]\n",
    "    old_length=0\n",
    "    for dict_idx,dict_name in enumerate(dict_loop):\n",
    "        for i in sorted(dict_name.keys()):\n",
    "            if (i<=quantiles[dict_idx][0] or i>=quantiles[dict_idx][1]) and dict_name[i].isalnum():\n",
    "                word_not_to_keep.append([i,dict_name[i]])\n",
    "        print(\"# of words not to keep %f\" % (len(word_not_to_keep)-old_length))\n",
    "        print(\"# of words not to keep\", len(word_not_to_keep)-old_length)\n",
    "        print(\"# of words to keep\",len(dict_name)-len(word_not_to_keep)+old_length)\n",
    "        old_length=len(word_not_to_keep)\n",
    "\n",
    "    print(\"# of words not to keep\",len(word_not_to_keep))\n",
    "    word_not_to_keep_list=np.array(word_not_to_keep)[:,1]\n",
    "    return word_not_to_keep_list"
   ]
  },
  {
   "cell_type": "code",
   "execution_count": 12,
   "metadata": {},
   "outputs": [
    {
     "name": "stdout",
     "output_type": "stream",
     "text": [
      "131 138906\n",
      "177 157322\n",
      "# of words not to keep 151.000000\n",
      "# of words not to keep 151\n",
      "# of words to keep 1153\n",
      "# of words not to keep 204.000000\n",
      "# of words not to keep 204\n",
      "# of words to keep 1566\n",
      "# of words not to keep 355\n"
     ]
    }
   ],
   "source": [
    "word_not_to_keep_list=additional_stop_words(word_3_dict,word_4_dict,quantile_min,quantile_max)"
   ]
  },
  {
   "cell_type": "markdown",
   "metadata": {},
   "source": [
    "##### Why using quantiles ?"
   ]
  },
  {
   "cell_type": "code",
   "execution_count": 13,
   "metadata": {},
   "outputs": [
    {
     "data": {
      "text/plain": [
       "Text(0.5, 1.0, 'Count # of occurences for each word')"
      ]
     },
     "execution_count": 13,
     "metadata": {},
     "output_type": "execute_result"
    },
    {
     "data": {
      "image/png": "[encoded data removed]",
      "text/plain": [
       "<Figure size 432x288 with 1 Axes>"
      ]
     },
     "metadata": {},
     "output_type": "display_data"
    }
   ],
   "source": [
    "dict_3_words_inv={v:k for k,v in word_3_dict.items()}\n",
    "plt.plot(sorted(dict_3_words_inv.keys()))\n",
    "plt.title(\"Count # of occurences for each word\")"
   ]
  },
  {
   "cell_type": "markdown",
   "metadata": {},
   "source": [
    "## New Data Set"
   ]
  },
  {
   "cell_type": "code",
   "execution_count": 14,
   "metadata": {},
   "outputs": [
    {
     "name": "stdout",
     "output_type": "stream",
     "text": [
      "Wall time: 343 ms\n"
     ]
    }
   ],
   "source": [
    "%%time\n",
    "source['text_mod']=tokens_all"
   ]
  },
  {
   "cell_type": "markdown",
   "metadata": {},
   "source": [
    "## Stopwords"
   ]
  },
  {
   "cell_type": "code",
   "execution_count": 15,
   "metadata": {},
   "outputs": [
    {
     "name": "stdout",
     "output_type": "stream",
     "text": [
      "157\n",
      "598\n"
     ]
    }
   ],
   "source": [
    "stop_words_man=stopwords.words('french')\n",
    "print(len(stop_words_man))\n",
    "new_list_man=['comme', 'si', 'faire', 'cette', 'aussi', 'ainsi', 'toutes','beaucoup', 'faut', 'falloir',\n",
    "              'cela', 'va', 'aller', 'là', 'ça','peux', 'pouvoir', 'quand', 'encore', 'donc', 'toujours', \n",
    "              'où','quelques', 'autre', 'autres', 'alors', 'entre', 'car', 'après','avant', 'temps', \n",
    "              'minute', 'minutes', 'depuis', 'également', 'un','trois', 'quatre', 'avoir', 'bon', \n",
    "              'première', 'premier','deuxième', 'niveau', 'face', 'contre', 'journée', 'début','jours', \n",
    "              'journée', 'année', 'jamais', 'lu', 'lire','selon', 'hui', 'aujourd', 'grand','dire', 'dit',\n",
    "              'dis', 'cet','nouveau','nouvelle','mis','mettre','chez']\n",
    "#                 \n",
    "\n",
    "list_mois= ['janvier', 'février', 'mars', 'avril', 'mai', 'juin', 'juillet', 'août', 'septembre', 'octobre', 'novembre', 'décembre' ]\n",
    "list_jours=['lundi','mardi','mercredi','jeudi','vendredi','samedi','dimanche']\n",
    "# stop_words_man.extend(list_man)\n",
    "stop_words_man.extend(list_mois)\n",
    "stop_words_man.extend(list_jours)\n",
    "stop_words_man.extend(word_not_to_keep_list)\n",
    "stop_words_man.extend(new_list_man)\n",
    "print(len(stop_words_man))"
   ]
  },
  {
   "cell_type": "code",
   "execution_count": 16,
   "metadata": {},
   "outputs": [],
   "source": [
    "# 'moins','leurs','sous','non','quel','quelle' ==> to add?"
   ]
  },
  {
   "cell_type": "markdown",
   "metadata": {},
   "source": [
    "# TOPIC MODELING : NMF & LDA"
   ]
  },
  {
   "cell_type": "markdown",
   "metadata": {},
   "source": [
    "###### Print topics"
   ]
  },
  {
   "cell_type": "code",
   "execution_count": 17,
   "metadata": {},
   "outputs": [],
   "source": [
    "def print_top_words(model, tfidf_cv_vectorizer, n_top_words):\n",
    "    feature_names = tfidf_cv_vectorizer.get_feature_names()\n",
    "    array_topic=[]\n",
    "    for topic_idx, topic in enumerate(model.components_):\n",
    "        message = \"Topic #%d: \" % topic_idx\n",
    "        message += \" \".join([feature_names[i]\n",
    "                             for i in topic.argsort()[:-n_top_words - 1:-1]])\n",
    "        print(message)\n",
    "        array_topic.append(message)\n",
    "    print()\n",
    "    return array_topic"
   ]
  },
  {
   "cell_type": "markdown",
   "metadata": {},
   "source": [
    "## tfidf and Count Vectorization"
   ]
  },
  {
   "cell_type": "code",
   "execution_count": 18,
   "metadata": {},
   "outputs": [
    {
     "name": "stdout",
     "output_type": "stream",
     "text": [
      "199.419s. 3.3 min\n"
     ]
    }
   ],
   "source": [
    "t0=time()\n",
    "tfidf_vectorizer = TfidfVectorizer(max_df=0.95, min_df=2,max_features=1000,stop_words=stop_words_man)\n",
    "tfidf_data = tfidf_vectorizer.fit_transform(source['text_mod'])\n",
    "print(\"%0.3fs.\" % (time() - t0),round((time() - t0)/60,1),\"min\")\n",
    "# 221.016s. 3.7 min"
   ]
  },
  {
   "cell_type": "code",
   "execution_count": 19,
   "metadata": {},
   "outputs": [
    {
     "name": "stdout",
     "output_type": "stream",
     "text": [
      "191.745s. 3.20min.\n"
     ]
    }
   ],
   "source": [
    "t0=time()\n",
    "count_vectorizer = CountVectorizer(max_df=0.95, min_df=2,max_features=1000,stop_words=stop_words_man)\n",
    "count_data = count_vectorizer.fit_transform(source['text_mod'])\n",
    "print(\"%0.3fs.\" % (time() - t0), \"%0.2fmin.\" % round((time() - t0)/60,1))\n",
    "# 168.056s. 2.8 min"
   ]
  },
  {
   "cell_type": "markdown",
   "metadata": {},
   "source": [
    "## NMF and LDA Model"
   ]
  },
  {
   "cell_type": "code",
   "execution_count": 20,
   "metadata": {},
   "outputs": [],
   "source": [
    "def model_vectorizer_fit(model, data_vectorized,tfidf_cv_vectorizer):\n",
    "    topics_list=[]\n",
    "    t0 = time()\n",
    "    model_fit=model.fit(data_vectorized)\n",
    "    print(\"Model fit %0.3fs.\" % (time() - t0), \"%0.2fmin.\" % round((time() - t0)/60,1))\n",
    "    topics_list=print_top_words(model_fit, tfidf_cv_vectorizer, 10)\n",
    "    return model_fit,topics_list"
   ]
  },
  {
   "cell_type": "markdown",
   "metadata": {},
   "source": [
    "### NMF and tfidf"
   ]
  },
  {
   "cell_type": "code",
   "execution_count": 21,
   "metadata": {},
   "outputs": [
    {
     "name": "stdout",
     "output_type": "stream",
     "text": [
      "Model fit 122.239s. 2.00min.\n",
      "Topic #0: vie jeune monde femme homme femmes famille film histoire années\n",
      "Topic #1: match équipe saison points ligue victoire joueurs jeu rencontre championnat\n",
      "Topic #2: the and you for film films série cinéma media album\n",
      "Topic #3: euros millions milliards prix groupe hausse dollars marché bourse croissance\n",
      "Topic #4: cookies privacy site web paramètres dpgmedia publicités tél mail social\n",
      "Topic #5: saint noël ville association heures salle enfants jean maire centre\n",
      "Topic #6: psg real club madrid mercato ligue paris champions joueur thomas\n",
      "Topic #7: alerte article facebook twitter application mobile compte page recevoir édition\n",
      "Topic #8: président gouvernement pays ministre politique trump police manifestants afp parti\n",
      "Topic #9: france coupe français paris monde tour finale euro pays française\n",
      "\n"
     ]
    }
   ],
   "source": [
    "model=NMF(n_components=n_topics_principal, random_state=1)\n",
    "nmf_tfidf,topics_nmf_tfidf=model_vectorizer_fit(model, tfidf_data,tfidf_vectorizer)"
   ]
  },
  {
   "cell_type": "markdown",
   "metadata": {},
   "source": [
    "### NMF and countVect"
   ]
  },
  {
   "cell_type": "code",
   "execution_count": 24,
   "metadata": {},
   "outputs": [
    {
     "name": "stdout",
     "output_type": "stream",
     "text": [
      "Model fit 97.942s. 1.60min.\n",
      "Topic #0: symbol path fill title viewbox menu twitter france facebook musique\n",
      "Topic #1: cookies site privacy web social paramètres entreprise mail numéro tél\n",
      "Topic #2: france monde moins vie leurs place sous non paris jeu\n",
      "Topic #3: the and you for but new media source long part\n",
      "Topic #4: class text span article strong quot https nbsp eacute sport\n",
      "Topic #5: points title série quel match victoire groupe quelle star the\n",
      "Topic #6: euros millions prix milliards groupe hausse affaires chiffre marché offre\n",
      "Topic #7: saison mercato match équipe club ligue joueurs histoire football classement\n",
      "Topic #8: président pays gouvernement ministre trump politique unis afp manifestants accord\n",
      "Topic #9: lieu black amazon friday euros pro apple jusqu offres offre\n",
      "\n"
     ]
    }
   ],
   "source": [
    "model=NMF(n_components=n_topics_principal, random_state=1)\n",
    "nmf_cv,topics_nmf_cv=model_vectorizer_fit(model, count_data,count_vectorizer)"
   ]
  },
  {
   "cell_type": "markdown",
   "metadata": {},
   "source": [
    "### LDA and tfidf"
   ]
  },
  {
   "cell_type": "code",
   "execution_count": 25,
   "metadata": {},
   "outputs": [
    {
     "name": "stdout",
     "output_type": "stream",
     "text": [
      "Model fit 974.456s. 16.20min.\n",
      "Topic #0: euros millions milliards bourse hausse chine marché groupe dollars entreprises\n",
      "Topic #1: police homme personnes enquête violences prison afp plusieurs justice victimes\n",
      "Topic #2: match ligue club équipe psg saison joueurs points football victoire\n",
      "Topic #3: cookies class the you span and eacute quot text com\n",
      "Topic #4: apple pro direct retrouvez photos news nicolas match dernières football\n",
      "Topic #5: président gouvernement ministre macron parti politique élections maire conseil municipales\n",
      "Topic #6: saint association ville enfants salle noël heures édition centre travaux\n",
      "Topic #7: trump unis donald hier etats américain new président york américaine\n",
      "Topic #8: finale coupe course france tour monde champion résultats victoire rugby\n",
      "Topic #9: film the vie monde jeu série vidéo cinéma histoire prix\n",
      "\n"
     ]
    }
   ],
   "source": [
    "model=LatentDirichletAllocation(n_components=n_topics_principal, max_iter=5,learning_method='online',learning_offset=50.,random_state=0,n_jobs=-1)\n",
    "lda_tfidf,topics_lda_tfidf=model_vectorizer_fit(model, tfidf_data,tfidf_vectorizer)"
   ]
  },
  {
   "cell_type": "markdown",
   "metadata": {},
   "source": [
    "### LDA and countVect"
   ]
  },
  {
   "cell_type": "code",
   "execution_count": 26,
   "metadata": {},
   "outputs": [
    {
     "name": "stdout",
     "output_type": "stream",
     "text": [
      "Model fit 1364.728s. 22.70min.\n",
      "Topic #0: jeu saison points équipe match victoire place joueurs tête dernier\n",
      "Topic #1: cookies site web social situé numéro privacy mail entreprise siège\n",
      "Topic #2: président pays afp unis gouvernement police ministre déclaré politique enquête\n",
      "Topic #3: article symbol title path class fill google com text facebook\n",
      "Topic #4: club ligue match france finale coupe football psg équipe saison\n",
      "Topic #5: personnes projet ville maire travail conseil santé centre leurs place\n",
      "Topic #6: the and noël eau sud you nuit voiture ville vers\n",
      "Topic #7: vie monde jeune histoire enfants film famille femme années voir\n",
      "Topic #8: saint jean france paris heures salle pierre hier édition michel\n",
      "Topic #9: euros millions prix marché moins produits france offre groupe milliards\n",
      "\n"
     ]
    }
   ],
   "source": [
    "model=LatentDirichletAllocation(n_components=n_topics_principal, max_iter=5,learning_method='online',learning_offset=50.,random_state=0,n_jobs=-1)\n",
    "lda_cv,topics_lda_cv=model_vectorizer_fit(model, count_data,count_vectorizer)"
   ]
  },
  {
   "cell_type": "markdown",
   "metadata": {},
   "source": [
    "## Save models ( tfidf, NMF) and topics_name"
   ]
  },
  {
   "cell_type": "code",
   "execution_count": 27,
   "metadata": {},
   "outputs": [],
   "source": [
    "# path_results='./final_results_2/'\n",
    "filename = 'tfidf_1000.sav'\n",
    "pickle.dump(tfidf_vectorizer, open(path_results+filename, 'wb'))\n",
    "# loaded_model_1000feat = pickle.load(open(filename, 'rb'))\n",
    "\n",
    "filename = 'nmf_tfidf_10.sav'\n",
    "pickle.dump(nmf_tfidf, open(path_results+filename, 'wb'))\n",
    "\n",
    "filename = 'count_1000.sav'\n",
    "pickle.dump(count_vectorizer, open(path_results+filename, 'wb'))\n",
    "# loaded_model_1000feat = pickle.load(open(filename, 'rb'))\n",
    "\n",
    "filename = 'nmf_cv_10.sav'\n",
    "pickle.dump(nmf_cv, open(path_results+filename, 'wb'))\n",
    "\n",
    "filename = 'lda_tfidf_10.sav'\n",
    "pickle.dump(lda_tfidf, open(path_results+filename, 'wb'))\n",
    "\n",
    "filename = 'lda_cv_10.sav'\n",
    "pickle.dump(lda_cv, open(path_results+filename, 'wb'))"
   ]
  },
  {
   "cell_type": "markdown",
   "metadata": {},
   "source": [
    "## Save Topics description"
   ]
  },
  {
   "cell_type": "code",
   "execution_count": 28,
   "metadata": {},
   "outputs": [
    {
     "name": "stdout",
     "output_type": "stream",
     "text": [
      "Topic #0: vie jeune monde femme homme femmes famille film histoire années\n",
      "Topic #1: match équipe saison points ligue victoire joueurs jeu rencontre championnat\n",
      "Topic #2: the and you for film films série cinéma media album\n",
      "Topic #3: euros millions milliards prix groupe hausse dollars marché bourse croissance\n",
      "Topic #4: cookies privacy site web paramètres dpgmedia publicités tél mail social\n",
      "Topic #5: saint noël ville association heures salle enfants jean maire centre\n",
      "Topic #6: psg real club madrid mercato ligue paris champions joueur thomas\n",
      "Topic #7: alerte article facebook twitter application mobile compte page recevoir édition\n",
      "Topic #8: président gouvernement pays ministre politique trump police manifestants afp parti\n",
      "Topic #9: france coupe français paris monde tour finale euro pays française\n",
      "\n",
      "Topic #0: symbol path fill title viewbox menu twitter france facebook musique\n",
      "Topic #1: cookies site privacy web social paramètres entreprise mail numéro tél\n",
      "Topic #2: france monde moins vie leurs place sous non paris jeu\n",
      "Topic #3: the and you for but new media source long part\n",
      "Topic #4: class text span article strong quot https nbsp eacute sport\n",
      "Topic #5: points title série quel match victoire groupe quelle star the\n",
      "Topic #6: euros millions prix milliards groupe hausse affaires chiffre marché offre\n",
      "Topic #7: saison mercato match équipe club ligue joueurs histoire football classement\n",
      "Topic #8: président pays gouvernement ministre trump politique unis afp manifestants accord\n",
      "Topic #9: lieu black amazon friday euros pro apple jusqu offres offre\n",
      "\n",
      "Topic #0: euros millions milliards bourse hausse chine marché groupe dollars entreprises\n",
      "Topic #1: police homme personnes enquête violences prison afp plusieurs justice victimes\n",
      "Topic #2: match ligue club équipe psg saison joueurs points football victoire\n",
      "Topic #3: cookies class the you span and eacute quot text com\n",
      "Topic #4: apple pro direct retrouvez photos news nicolas match dernières football\n",
      "Topic #5: président gouvernement ministre macron parti politique élections maire conseil municipales\n",
      "Topic #6: saint association ville enfants salle noël heures édition centre travaux\n",
      "Topic #7: trump unis donald hier etats américain new président york américaine\n",
      "Topic #8: finale coupe course france tour monde champion résultats victoire rugby\n",
      "Topic #9: film the vie monde jeu série vidéo cinéma histoire prix\n",
      "\n",
      "Topic #0: jeu saison points équipe match victoire place joueurs tête dernier\n",
      "Topic #1: cookies site web social situé numéro privacy mail entreprise siège\n",
      "Topic #2: président pays afp unis gouvernement police ministre déclaré politique enquête\n",
      "Topic #3: article symbol title path class fill google com text facebook\n",
      "Topic #4: club ligue match france finale coupe football psg équipe saison\n",
      "Topic #5: personnes projet ville maire travail conseil santé centre leurs place\n",
      "Topic #6: the and noël eau sud you nuit voiture ville vers\n",
      "Topic #7: vie monde jeune histoire enfants film famille femme années voir\n",
      "Topic #8: saint jean france paris heures salle pierre hier édition michel\n",
      "Topic #9: euros millions prix marché moins produits france offre groupe milliards\n",
      "\n"
     ]
    }
   ],
   "source": [
    "topics_nmf_tfidf=print_top_words(nmf_tfidf, tfidf_vectorizer, 10)\n",
    "topics_nmf_cv=print_top_words(nmf_cv, count_vectorizer, 10)\n",
    "topics_lda_tfidf=print_top_words(lda_tfidf, tfidf_vectorizer, 10)\n",
    "topics_lda_cv=print_top_words(lda_cv, count_vectorizer, 10)"
   ]
  },
  {
   "cell_type": "code",
   "execution_count": 29,
   "metadata": {},
   "outputs": [],
   "source": [
    "models_name=['nmf_tfidf','nmf_cv','lda_tfidf','lda_cv']\n",
    "data_topics_name=[topics_nmf_tfidf,topics_nmf_cv,topics_lda_tfidf,topics_lda_cv]\n",
    "\n",
    "df_topics_name=pd.DataFrame()\n",
    "for i,topics_name in enumerate(data_topics_name):\n",
    "    df_temp=pd.DataFrame(data=[topics_name]).T\n",
    "    df_temp['model']=models_name[i]\n",
    "    df_topics_name=pd.concat([df_topics_name,df_temp],axis=0)\n",
    "df_topics_name=df_topics_name.rename(columns={0:\"topics_desc\"})\n",
    "df_topics_name['topic_number']=df_topics_name['topics_desc'].apply(lambda x: x[:8][-1])"
   ]
  },
  {
   "cell_type": "code",
   "execution_count": 30,
   "metadata": {},
   "outputs": [],
   "source": [
    "df_topics_name.to_csv(path_results+file_principal_topic_desc_all,index=False)\n",
    "df_topics_name.query(\"model=='nmf_tfidf'\")[['topics_desc']].to_csv(path_results+file_principal_topic_desc_nmf,index=False)"
   ]
  },
  {
   "cell_type": "code",
   "execution_count": 31,
   "metadata": {},
   "outputs": [
    {
     "data": {
      "text/html": [
       "<div>\n",
       "<style scoped>\n",
       "    .dataframe tbody tr th:only-of-type {\n",
       "        vertical-align: middle;\n",
       "    }\n",
       "\n",
       "    .dataframe tbody tr th {\n",
       "        vertical-align: top;\n",
       "    }\n",
       "\n",
       "    .dataframe thead th {\n",
       "        text-align: right;\n",
       "    }\n",
       "</style>\n",
       "<table border=\"1\" class=\"dataframe\">\n",
       "  <thead>\n",
       "    <tr style=\"text-align: right;\">\n",
       "      <th></th>\n",
       "      <th>topics_desc</th>\n",
       "    </tr>\n",
       "  </thead>\n",
       "  <tbody>\n",
       "    <tr>\n",
       "      <th>0</th>\n",
       "      <td>Topic #0: vie jeune monde femme homme femmes f...</td>\n",
       "    </tr>\n",
       "    <tr>\n",
       "      <th>1</th>\n",
       "      <td>Topic #1: match équipe saison points ligue vic...</td>\n",
       "    </tr>\n",
       "    <tr>\n",
       "      <th>2</th>\n",
       "      <td>Topic #2: the and you for film films série cin...</td>\n",
       "    </tr>\n",
       "    <tr>\n",
       "      <th>3</th>\n",
       "      <td>Topic #3: euros millions milliards prix groupe...</td>\n",
       "    </tr>\n",
       "    <tr>\n",
       "      <th>4</th>\n",
       "      <td>Topic #4: cookies privacy site web paramètres ...</td>\n",
       "    </tr>\n",
       "    <tr>\n",
       "      <th>5</th>\n",
       "      <td>Topic #5: saint noël ville association heures ...</td>\n",
       "    </tr>\n",
       "    <tr>\n",
       "      <th>6</th>\n",
       "      <td>Topic #6: psg real club madrid mercato ligue p...</td>\n",
       "    </tr>\n",
       "    <tr>\n",
       "      <th>7</th>\n",
       "      <td>Topic #7: alerte article facebook twitter appl...</td>\n",
       "    </tr>\n",
       "    <tr>\n",
       "      <th>8</th>\n",
       "      <td>Topic #8: président gouvernement pays ministre...</td>\n",
       "    </tr>\n",
       "    <tr>\n",
       "      <th>9</th>\n",
       "      <td>Topic #9: france coupe français paris monde to...</td>\n",
       "    </tr>\n",
       "  </tbody>\n",
       "</table>\n",
       "</div>"
      ],
      "text/plain": [
       "                                         topics_desc\n",
       "0  Topic #0: vie jeune monde femme homme femmes f...\n",
       "1  Topic #1: match équipe saison points ligue vic...\n",
       "2  Topic #2: the and you for film films série cin...\n",
       "3  Topic #3: euros millions milliards prix groupe...\n",
       "4  Topic #4: cookies privacy site web paramètres ...\n",
       "5  Topic #5: saint noël ville association heures ...\n",
       "6  Topic #6: psg real club madrid mercato ligue p...\n",
       "7  Topic #7: alerte article facebook twitter appl...\n",
       "8  Topic #8: président gouvernement pays ministre...\n",
       "9  Topic #9: france coupe français paris monde to..."
      ]
     },
     "execution_count": 31,
     "metadata": {},
     "output_type": "execute_result"
    }
   ],
   "source": [
    "df_topics_name.query(\"model=='nmf_tfidf'\")[['topics_desc']]"
   ]
  },
  {
   "cell_type": "markdown",
   "metadata": {},
   "source": [
    "# LOAD MODELS"
   ]
  },
  {
   "cell_type": "code",
   "execution_count": 32,
   "metadata": {},
   "outputs": [
    {
     "name": "stdout",
     "output_type": "stream",
     "text": [
      "Wall time: 1.17 s\n"
     ]
    }
   ],
   "source": [
    "%%time\n",
    "# path='./final_results_2/'\n",
    "filename = 'tfidf_1000.sav'\n",
    "tfidf_vectorizer= pickle.load(open(path_results+filename, 'rb'))\n",
    "\n",
    "filename = 'count_1000.sav'\n",
    "count_vectorizer= pickle.load(open(path_results+filename, 'rb'))\n",
    "\n",
    "filename = 'nmf_tfidf_10.sav'\n",
    "nmf_tfidf= pickle.load(open(path_results+filename, 'rb'))\n",
    "\n",
    "filename = 'nmf_cv_10.sav'\n",
    "nmf_cv = pickle.load(open(path_results+filename, 'rb'))\n",
    "\n",
    "filename = 'lda_tfidf_10.sav'\n",
    "lda_tfidf = pickle.load(open(path_results+filename, 'rb'))\n",
    "\n",
    "filename = 'lda_cv_10.sav'\n",
    "lda_cv = pickle.load(open(path_results+filename, 'rb'))"
   ]
  },
  {
   "cell_type": "markdown",
   "metadata": {},
   "source": [
    "# CLASSIFICATION"
   ]
  },
  {
   "cell_type": "markdown",
   "metadata": {},
   "source": [
    "## Methods: Build the whole dataset and results"
   ]
  },
  {
   "cell_type": "code",
   "execution_count": 33,
   "metadata": {},
   "outputs": [],
   "source": [
    "def build_dataset_text(model,data_vectorized,source,nb_topics=7):\n",
    "    W_ss_model=model.transform(data_vectorized)\n",
    "    cols_topics=['topic'+str(i) for i in range(0,nb_topics)]\n",
    "    df_model=pd.DataFrame(data=W_ss_model,columns=cols_topics)\n",
    "    cols_copy=['domain','category','date','month','day','hour','timestamp','text_mod']\n",
    "    for col in cols_copy:\n",
    "        df_model[col]=source[col].copy()\n",
    "\n",
    "    topics_tfidf=[]\n",
    "    for i in range(0,len(W_ss_model)):\n",
    "        topic_idx=W_ss_model[i].argsort()[:1:-1][0]\n",
    "        topics_tfidf.append(topic_idx)\n",
    "\n",
    "    df_model['topic_principal']=topics_tfidf\n",
    "    return df_model"
   ]
  },
  {
   "cell_type": "code",
   "execution_count": 34,
   "metadata": {},
   "outputs": [],
   "source": [
    "def classif_dataset(model,tfidf_cv_vectorizer,source,n_topics=10,n_trees=10):\n",
    "    \n",
    "    t0=time()\n",
    "    print(\"in transform vectorizer:\")\n",
    "    tfidf_cv_data=tfidf_cv_vectorizer.transform(source['text_mod'])\n",
    "    print(\"%0.3fs.\" % (time() - t0), \"%0.2fmin.\" % round((time() - t0)/60,1))\n",
    "        \n",
    "    t0=time()\n",
    "    print(\"in build general dataset:\")\n",
    "    df_model_vectorizer=build_dataset_text(model,tfidf_cv_data,source,n_topics)\n",
    "    print(\"%0.3fs.\" % (time() - t0), \"%0.2fmin.\" % round((time() - t0)/60,1))\n",
    "    \n",
    "    t0=time()\n",
    "    print(\"in build classif dataset:\")\n",
    "    tf_feature_names = tfidf_cv_vectorizer.get_feature_names()\n",
    "    tfidf_cv_model=pd.DataFrame.sparse.from_spmatrix(tfidf_cv_data,columns=tf_feature_names)\n",
    "    tfidf_cv_model['topic_principal']=df_model_vectorizer['topic_principal']\n",
    "    print(\"%0.3fs.\" % (time() - t0), \"%0.2fmin.\" % round((time() - t0)/60,1))\n",
    "    \n",
    "    t0=time()\n",
    "    print(\"in split data: train, valid, test:\")\n",
    "    X=tfidf_cv_model.iloc[:,:-1]\n",
    "    y=tfidf_cv_model['topic_principal']\n",
    "\n",
    "    thresh_train=int(source.shape[0]*0.8)\n",
    "    thresh_valid=int(source.shape[0]*0.9)\n",
    "\n",
    "    X_train=X.iloc[:thresh_train,:]\n",
    "    y_train=y.iloc[:thresh_train]\n",
    "\n",
    "    X_valid=X.iloc[thresh_train:thresh_valid,:]\n",
    "    y_valid=y.iloc[thresh_train:thresh_valid]\n",
    "\n",
    "    X_test=X.iloc[thresh_valid:,:]\n",
    "    y_test=y.iloc[thresh_valid:]\n",
    "    \n",
    "    print(\"%0.3fs.\" % (time() - t0), \"%0.2fmin.\" % round((time() - t0)/60,1))\n",
    "    \n",
    "    t0=time()\n",
    "    print(\"in fit model:\")\n",
    "    forest_10 = ExtraTreesClassifier(n_estimators=n_trees,random_state=0)\n",
    "    forest_10.fit(X_train, y_train)\n",
    "    print(\"%0.3fs.\" % (time() - t0), \"%0.2fmin.\" % round((time() - t0)/60,1))\n",
    "    \n",
    "    t0=time()\n",
    "    print(\"in predict model:\")\n",
    "    y_pred_valid=forest_10.predict(X_valid)\n",
    "    y_pred_test=forest_10.predict(X_test)\n",
    "    \n",
    "    acc_valid=accuracy_score(y_valid, y_pred_valid)\n",
    "    acc_test=accuracy_score(y_test, y_pred_test)\n",
    "    print(\"accuracy valid set\",acc_valid)\n",
    "    print(\"accuracy test set\",acc_test)\n",
    "    print(\"%0.3fs.\" % (time() - t0), \"%0.2fmin.\" % round((time() - t0)/60,1))\n",
    "    \n",
    "    return (df_model_vectorizer, tfidf_cv_model, X_train,y_train,X_valid,y_valid,X_test,y_test,forest_10,acc_valid,acc_test)"
   ]
  },
  {
   "cell_type": "markdown",
   "metadata": {},
   "source": [
    "## NMF and tfidf"
   ]
  },
  {
   "cell_type": "code",
   "execution_count": 37,
   "metadata": {},
   "outputs": [
    {
     "name": "stdout",
     "output_type": "stream",
     "text": [
      "in transform vectorizer:\n",
      "666.195s. 11.10min.\n",
      "in build general dataset:\n",
      "42.353s. 0.70min.\n",
      "in build classif dataset:\n",
      "5.674s. 0.10min.\n",
      "in split data: train, valid, test:\n",
      "144.999s. 2.40min.\n",
      "in fit model:\n",
      "384.081s. 6.40min.\n",
      "in predict model:\n",
      "accuracy valid set 0.837391861582826\n",
      "accuracy test set 0.8364466517141942\n",
      "7.145s. 0.10min.\n",
      "Wall time: 20min 52s\n"
     ]
    }
   ],
   "source": [
    "%%time\n",
    "df_nmf_tfidf,tfidf_nmf_sparse, X_train_nmf_tfidf,y_train_nmf_tfidf,X_valid_nmf_tfidf,y_valid_nmf_tfidf,X_test_nmf_tfidf,y_test_nmf_tfidf,forest_10_nmf_tfidf,acc_valid_nmf_tfidf,acc_test_nmf_tfidf = classif_dataset(nmf_tfidf,tfidf_vectorizer,source,n_topics=n_topics_principal,n_trees=n_trees_clf)"
   ]
  },
  {
   "cell_type": "markdown",
   "metadata": {},
   "source": [
    "## NMF and cv"
   ]
  },
  {
   "cell_type": "code",
   "execution_count": 35,
   "metadata": {},
   "outputs": [
    {
     "name": "stdout",
     "output_type": "stream",
     "text": [
      "in transform vectorizer:\n",
      "293.797s. 4.90min.\n",
      "in build general dataset:\n",
      "26.966s. 0.40min.\n",
      "in build classif dataset:\n",
      "7.878s. 0.10min.\n",
      "in split data: train, valid, test:\n",
      "144.301s. 2.40min.\n",
      "in fit model:\n",
      "394.652s. 6.60min.\n",
      "in predict model:\n",
      "accuracy valid set 0.8528356296058955\n",
      "accuracy test set 0.8520025632809997\n",
      "8.249s. 0.10min.\n",
      "Wall time: 14min 38s\n"
     ]
    }
   ],
   "source": [
    "%%time\n",
    "df_nmf_cv,cv_nmf_sparse, X_train_nmf_cv,y_train_nmf_cv,X_valid_nmf_cv,y_valid_nmf_cv,X_test_nmf_cv,y_test_nmf_cv,forest_10_nmf_cv,acc_valid_nmf_cv,acc_test_nmf_cv = classif_dataset(nmf_cv,count_vectorizer,source,n_topics=n_topics_principal,n_trees=n_trees_clf)"
   ]
  },
  {
   "cell_type": "markdown",
   "metadata": {},
   "source": [
    "## LDA and tfidf"
   ]
  },
  {
   "cell_type": "code",
   "execution_count": 53,
   "metadata": {},
   "outputs": [
    {
     "name": "stdout",
     "output_type": "stream",
     "text": [
      "in transform vectorizer:\n",
      "273.143s. 4.60min.\n",
      "in build general dataset:\n",
      "151.391s. 2.50min.\n",
      "in build classif dataset:\n",
      "9.126s. 0.20min.\n",
      "in split data: train, valid, test:\n",
      "144.228s. 2.40min.\n",
      "in fit model:\n",
      "401.309s. 6.70min.\n",
      "in predict model:\n",
      "accuracy valid set 0.8334027555270747\n",
      "accuracy test set 0.8303588593399551\n",
      "7.958s. 0.10min.\n",
      "Wall time: 16min 29s\n"
     ]
    }
   ],
   "source": [
    "%%time\n",
    "df_lda_tfidf,tfidf_lda_sparse, X_train_lda_tfidf,y_train_lda_tfidf,X_valid_lda_tfidf,y_valid_lda_tfidf,X_test_lda_tfidf,y_test_lda_tfidf,forest_10_lda_tfidf,acc_valid_lda_tfidf,acc_test_lda_tfidf = classif_dataset(lda_tfidf,tfidf_vectorizer,source,n_topics=n_topics_principal,n_trees=n_trees_clf)"
   ]
  },
  {
   "cell_type": "markdown",
   "metadata": {},
   "source": [
    "## LDA and cv"
   ]
  },
  {
   "cell_type": "code",
   "execution_count": 36,
   "metadata": {},
   "outputs": [
    {
     "name": "stdout",
     "output_type": "stream",
     "text": [
      "in transform vectorizer:\n",
      "298.146s. 5.00min.\n",
      "in build general dataset:\n",
      "254.708s. 4.20min.\n",
      "in build classif dataset:\n",
      "9.955s. 0.20min.\n",
      "in split data: train, valid, test:\n",
      "526.270s. 8.80min.\n",
      "in fit model:\n",
      "335.277s. 5.60min.\n",
      "in predict model:\n",
      "accuracy valid set 0.7683755206664531\n",
      "accuracy test set 0.7663248958667094\n",
      "7.465s. 0.10min.\n",
      "Wall time: 23min 54s\n"
     ]
    }
   ],
   "source": [
    "%%time\n",
    "df_lda_cv,cv_lda_sparse, X_train_lda_cv,y_train_lda_cv,X_valid_lda_cv,y_valid_lda_cv,X_test_lda_cv,y_test_lda_cv,forest_10_lda_cv,acc_valid_lda_cv,acc_test_lda_cv = classif_dataset(lda_cv,count_vectorizer,source,n_topics=n_topics_principal,n_trees=n_trees_clf)"
   ]
  },
  {
   "cell_type": "markdown",
   "metadata": {},
   "source": [
    "# SUB-TOPICS MODELING"
   ]
  },
  {
   "cell_type": "markdown",
   "metadata": {},
   "source": [
    "## Build sub_topics dataset: (tfidf,nmf) for each topic"
   ]
  },
  {
   "cell_type": "code",
   "execution_count": 38,
   "metadata": {},
   "outputs": [],
   "source": [
    "def save_models(path,topic_number,tfidf_vect,nmf_tfidf):\n",
    "    filename = \"tfidf_1000_sub_topic_\"+str(topic_number)+\".sav\"\n",
    "    pickle.dump(tfidf_vect, open(path+filename, 'wb'))\n",
    "\n",
    "    filename = \"nmf_tfidf_7_sub_topic_\"+str(topic_number)+\".sav\"\n",
    "    pickle.dump(nmf_tfidf, open(path+filename, 'wb'))"
   ]
  },
  {
   "cell_type": "code",
   "execution_count": 39,
   "metadata": {},
   "outputs": [],
   "source": [
    "def build_dataset(model,data_vectorized,index_list,nb_topics=7):\n",
    "    W_ss_model=model.transform(data_vectorized)  \n",
    "    cols_topics=['sub_topic'+str(i) for i in range(0,nb_topics)]\n",
    "    df_model=pd.DataFrame(data=W_ss_model,columns=cols_topics,index=index_list)\n",
    "    topics_tfidf=[]\n",
    "    for i in range(0,len(W_ss_model)):\n",
    "        topic_idx=W_ss_model[i].argsort()[:1:-1][0]\n",
    "        topics_tfidf.append(topic_idx)\n",
    "    df_model['sub_topic_principal']=topics_tfidf\n",
    "    return df_model"
   ]
  },
  {
   "cell_type": "code",
   "execution_count": 40,
   "metadata": {
    "scrolled": false
   },
   "outputs": [
    {
     "name": "stdout",
     "output_type": "stream",
     "text": [
      "shape sub-topics df:  (112520, 19)\n",
      "filter topic 57.25s. 1.0 min\n",
      "in vectorizer fit_transform\n",
      "tf-idf vectorizer 73.97s. 1.2 min\n",
      "NMF 37.46s. 0.6 min\n",
      "\n",
      "Topic number: 0\n",
      "Topic #0: moins cas travail monde leurs personnes non santé comment elles\n",
      "Topic #1: news découvrez photos interprète dernières réalisateur scène musique photo image\n",
      "Topic #2: vie famille fille enfants mère amour enfant père instagram photo\n",
      "Topic #3: film cinéma polanski réalisateur roman films histoire accuse scène actrice\n",
      "Topic #4: femmes violences hommes elles victimes femme violence faites enfants leurs\n",
      "Topic #5: homme jeune victime femme faits voiture prison mort enquête tribunal\n",
      "Topic #6: jeu vidéo jeux version série joueurs disponible sortie one annonce\n",
      "\n",
      "shape sub-topics df:  (82397, 19)\n",
      "filter topic 0.19s. 0.0 min\n",
      "in vectorizer fit_transform\n",
      "tf-idf vectorizer 34.62s. 0.6 min\n",
      "NMF 27.59s. 0.5 min\n",
      "\n",
      "Topic number: 1\n",
      "Topic #0: saison équipe joueurs monde club coupe championnat joueur entraîneur jouer\n",
      "Topic #1: courses pronostics résultats gauche course gagné départ terrain droite piste\n",
      "Topic #2: match but buts jeu victoire score période coup rencontre tête\n",
      "Topic #3: masters finale nadal djokovic federer tsitsipas atp tennis mondial londres\n",
      "Topic #4: direct live suivez match rencontre football eurosport équipes connaître actions\n",
      "Topic #5: ligue champions garcia lyon marseille lyonnais rudi olympique toulouse groupe\n",
      "Topic #6: points rebonds nba passes pts lakers james quart clippers victoire\n",
      "\n",
      "shape sub-topics df:  (18969, 19)\n",
      "filter topic 0.06s. 0.0 min\n",
      "in vectorizer fit_transform\n",
      "tf-idf vectorizer 10.44s. 0.2 min\n",
      "NMF 1.47s. 0.0 min\n",
      "\n",
      "Topic number: 2\n",
      "Topic #0: descriptifs abonner exclusives interviews reportages sorties retrouvez magazine cinéma films\n",
      "Topic #1: you verizon your media ads partners relevant our provide use\n",
      "Topic #2: film série saison netflix the cinéma disney star épisode films\n",
      "Topic #3: the and that you for with have are this can\n",
      "Topic #4: fusion not media and trading prices any data contained accurate\n",
      "Topic #5: jeu xbox jeux nintendo switch vidéo the game playstation windows\n",
      "Topic #6: album groupe the concert rock nouvel musique scène pop clip\n",
      "\n",
      "shape sub-topics df:  (66527, 19)\n",
      "filter topic 0.11s. 0.0 min\n",
      "in vectorizer fit_transform\n",
      "tf-idf vectorizer 37.61s. 0.6 min\n",
      "NMF 17.02s. 0.3 min\n",
      "\n",
      "Topic number: 3\n",
      "Topic #0: entreprise entreprises produits leurs clients marché groupe données société développement\n",
      "Topic #1: friday black amazon promotions offres lieu cdiscount bons plans produits\n",
      "Topic #2: bourse points indice chine hausse unis paris etats wall accord\n",
      "Topic #3: apple pro iphone imac macbook version modèle modèles gamme pouces\n",
      "Topic #4: euros millions jeux milliards budget paris fdj etat montant gouvernement\n",
      "Topic #5: prix vente hausse enchères moins jean édition reçu immobilier offre\n",
      "Topic #6: trimestre chiffre croissance affaires groupe troisième milliards dollars hausse millions\n",
      "\n",
      "shape sub-topics df:  (12357, 19)\n",
      "filter topic 0.07s. 0.0 min\n",
      "in vectorizer fit_transform\n",
      "tf-idf vectorizer 6.72s. 0.1 min\n",
      "NMF 1.23s. 0.0 min\n",
      "\n",
      "Topic number: 4\n",
      "Topic #0: cookies privacy paramètres social web dpgmedia site tél siège situé\n",
      "Topic #1: ciblage offrent dépôt paramétrer personnalisation outils radio permettant possibilité mesure\n",
      "Topic #2: you this website wish improve can read uses out policy\n",
      "Topic #3: service acceptes aident assurer onefootball utilisant français cookies savoir utilisation\n",
      "Topic #4: centres blank sun field leave intérêt adaptés proposer acceptez poursuivant\n",
      "Topic #5: handirect adresse diffuserons acceptons ecrivez rédactionnel word témoignage budgets sélectionné\n",
      "Topic #6: accès magazines jusqu appareil monde vif web site trends tendances\n",
      "\n",
      "shape sub-topics df:  (120178, 19)\n",
      "filter topic 0.13s. 0.0 min\n",
      "in vectorizer fit_transform\n",
      "tf-idf vectorizer 47.59s. 0.8 min\n",
      "NMF 26.68s. 0.4 min\n",
      "\n",
      "Topic number: 5\n",
      "Topic #0: ville maire projet conseil travaux commune centre habitants municipal jean\n",
      "Topic #1: nuages vent ciel températures météo midi ouest sud soleil soufflera\n",
      "Topic #2: noël marché père fêtes sapin cadeaux place animations exposants jouets\n",
      "Topic #3: hier occaz iookaz rubrique articles bonne près strasbourg voir concert\n",
      "Topic #4: saint pompiers incendie accident vers feu secours heures sapeurs route\n",
      "Topic #5: heures association salle festival concert salon spectacle exposition soirée public\n",
      "Topic #6: enfants école élèves parents jeunes leurs collège scolaire écoles classe\n",
      "\n",
      "shape sub-topics df:  (25867, 19)\n",
      "filter topic 0.11s. 0.0 min\n",
      "in vectorizer fit_transform\n",
      "tf-idf vectorizer 8.25s. 0.1 min\n",
      "NMF 3.86s. 0.1 min\n",
      "\n",
      "Topic number: 6\n",
      "Topic #0: psg tuchel paris ligue thomas icardi match neymar champions bruges\n",
      "Topic #1: club président entraîneur football joueur saison ancien jeunes france équipe\n",
      "Topic #2: real madrid zidane benzema bale karim liga hazard gareth match\n",
      "Topic #3: mercato leonardo psg pourrait contrat juventus hiver milan manchester départ\n",
      "Topic #4: mbappé kylian psg neymar leonardo zidane real monde français joueur\n",
      "Topic #5: barcelone neymar barça messi griezmann valverde lionel mercato suarez catalan\n",
      "Topic #6: marseille olympique boutique football club live émission dossiers notes chaud\n",
      "\n",
      "shape sub-topics df:  (29877, 19)\n",
      "filter topic 0.06s. 0.0 min\n",
      "in vectorizer fit_transform\n",
      "tf-idf vectorizer 12.02s. 0.2 min\n",
      "NMF 1.96s. 0.0 min\n",
      "\n",
      "Topic number: 7\n",
      "Topic #0: informé alerte compte devenez recommandons téléchargeant plu newsletters notifications fan\n",
      "Topic #1: class text quot article nbsp rsquo related span div strong\n",
      "Topic #2: symbol path title fill viewbox asset_icon_share circle asset_icon_player fff m20\n",
      "Topic #3: eacute agrave nbsp quot href egrave https ecirc com belgique\n",
      "Topic #4: facebook com google utilisateurs article application twitter publié édition données\n",
      "Topic #5: marchés moniteur régionale secteur publics privés veille outils nationale environnement\n",
      "Topic #6: abonnement numérique lnc offre engagement accès suite carte journal articles\n",
      "\n",
      "shape sub-topics df:  (108447, 19)\n",
      "filter topic 0.12s. 0.0 min\n",
      "in vectorizer fit_transform\n",
      "tf-idf vectorizer 62.48s. 1.0 min\n",
      "NMF 43.01s. 0.7 min\n",
      "\n",
      "Topic number: 8\n",
      "Topic #0: macron grève réforme emmanuel gouvernement retraites ministre projet président loi\n",
      "Topic #1: trump donald président américain unis etats destitution blanche démocrates maison\n",
      "Topic #2: police prison justice enquête violences cour tribunal parquet affaire homme\n",
      "Topic #3: jaunes gilets mouvement paris anniversaire manifestants manifestation violences ordre mobilisation\n",
      "Topic #4: kong hong manifestants chine pékin police pro chinois démocratie campus\n",
      "Topic #5: parti élections président politique droite gauche municipales gouvernement campagne candidat\n",
      "Topic #6: pays morts nord sud personnes iran armée afp manifestants forces\n",
      "\n",
      "shape sub-topics df:  (47057, 19)\n",
      "filter topic 0.14s. 0.0 min\n",
      "in vectorizer fit_transform\n",
      "tf-idf vectorizer 20.39s. 0.3 min\n",
      "NMF 2.74s. 0.0 min\n",
      "\n",
      "Topic number: 9\n",
      "Topic #0: france paris français pays personnes française leurs monde moins jean\n",
      "Topic #1: coupe finale monde davis rugby mondial sud équipe japon compétition\n",
      "Topic #2: euro bleus deschamps groupe équipe moldavie tirage france albanie didier\n",
      "Topic #3: miss france concours élection femme marseille elles générale jeune culture\n",
      "Topic #4: tour poulidor raymond champion cyclisme poupou anquetil france étape maillot\n",
      "Topic #5: météo sud vigilance neige orange vent ouest pluies départements pluie\n",
      "Topic #6: bfmtv toute live info canal actualité antenne com retrouvez propose\n",
      "\n",
      "Wall time: 9min 12s\n"
     ]
    }
   ],
   "source": [
    "%%time\n",
    "# path='./final_results/'\n",
    "global_list_topics_name=dict()\n",
    "df_final_all_topics=pd.DataFrame()\n",
    "for i in range(0,10):\n",
    "    t0=time()\n",
    "    df_ss_topic=df_nmf_tfidf.query(\"topic_principal==@i\")\n",
    "    print(\"shape sub-topics df: \", df_ss_topic.shape)\n",
    "    print(\"filter topic %0.2fs.\" % (time() - t0),round((time() - t0)/60,1),\"min\")\n",
    "    \n",
    "    #******************* Models *********************************\n",
    "    t0=time()\n",
    "    print(\"in vectorizer fit_transform\")\n",
    "    tfidf_vectorizer_sub = TfidfVectorizer(max_df=0.95, min_df=2,max_features=1000,stop_words=stop_words_man)\n",
    "    tfidf_data_sub = tfidf_vectorizer_sub.fit_transform(df_ss_topic['text_mod'])\n",
    "    print(\"tf-idf vectorizer %0.2fs.\" % (time() - t0),round((time() - t0)/60,1),\"min\")\n",
    "    \n",
    "    t0 = time()\n",
    "    nmf_tfidf_sub = NMF(n_components=7, random_state=1).fit(tfidf_data_sub)\n",
    "    print(\"NMF %0.2fs.\" % (time() - t0),round((time() - t0)/60,1),\"min\")\n",
    "    \n",
    "    #******************* Save Models ****************************\n",
    "    save_models(path_results,i,tfidf_vectorizer_sub,nmf_tfidf_sub)\n",
    "    \n",
    "    #***** Build Final Dataset: 7 subtopics from df_model + sub_topic_principal from  sub_topics_tfidf******************\n",
    "    df_model=build_dataset(nmf_tfidf_sub,tfidf_data_sub,df_ss_topic.index)\n",
    "    df_ss_topic=pd.concat([df_ss_topic,df_model],axis=1)\n",
    "    df_final_all_topics=pd.concat([df_final_all_topics,df_ss_topic],axis=0)\n",
    "    \n",
    "    #******************* Print sub topics most important words****\n",
    "    print(\"\\nTopic number: \"+str(i))\n",
    "    topics_nmf_tfidf_names=print_top_words(nmf_tfidf_sub, tfidf_vectorizer_sub, 10)\n",
    "    global_list_topics_name[i]=topics_nmf_tfidf_names\n",
    "    \n",
    "    del nmf_tfidf_sub\n",
    "    del tfidf_vectorizer_sub"
   ]
  },
  {
   "cell_type": "markdown",
   "metadata": {},
   "source": [
    "## Save description all sub topics details"
   ]
  },
  {
   "cell_type": "code",
   "execution_count": 41,
   "metadata": {},
   "outputs": [
    {
     "data": {
      "text/html": [
       "<div>\n",
       "<style scoped>\n",
       "    .dataframe tbody tr th:only-of-type {\n",
       "        vertical-align: middle;\n",
       "    }\n",
       "\n",
       "    .dataframe tbody tr th {\n",
       "        vertical-align: top;\n",
       "    }\n",
       "\n",
       "    .dataframe thead th {\n",
       "        text-align: right;\n",
       "    }\n",
       "</style>\n",
       "<table border=\"1\" class=\"dataframe\">\n",
       "  <thead>\n",
       "    <tr style=\"text-align: right;\">\n",
       "      <th></th>\n",
       "      <th>0</th>\n",
       "      <th>1</th>\n",
       "      <th>2</th>\n",
       "      <th>3</th>\n",
       "      <th>4</th>\n",
       "      <th>5</th>\n",
       "      <th>6</th>\n",
       "    </tr>\n",
       "  </thead>\n",
       "  <tbody>\n",
       "    <tr>\n",
       "      <th>0</th>\n",
       "      <td>Topic #0: moins cas travail monde leurs person...</td>\n",
       "      <td>Topic #1: news découvrez photos interprète der...</td>\n",
       "      <td>Topic #2: vie famille fille enfants mère amour...</td>\n",
       "      <td>Topic #3: film cinéma polanski réalisateur rom...</td>\n",
       "      <td>Topic #4: femmes violences hommes elles victim...</td>\n",
       "      <td>Topic #5: homme jeune victime femme faits voit...</td>\n",
       "      <td>Topic #6: jeu vidéo jeux version série joueurs...</td>\n",
       "    </tr>\n",
       "    <tr>\n",
       "      <th>1</th>\n",
       "      <td>Topic #0: saison équipe joueurs monde club cou...</td>\n",
       "      <td>Topic #1: courses pronostics résultats gauche ...</td>\n",
       "      <td>Topic #2: match but buts jeu victoire score pé...</td>\n",
       "      <td>Topic #3: masters finale nadal djokovic federe...</td>\n",
       "      <td>Topic #4: direct live suivez match rencontre f...</td>\n",
       "      <td>Topic #5: ligue champions garcia lyon marseill...</td>\n",
       "      <td>Topic #6: points rebonds nba passes pts lakers...</td>\n",
       "    </tr>\n",
       "  </tbody>\n",
       "</table>\n",
       "</div>"
      ],
      "text/plain": [
       "                                                   0  \\\n",
       "0  Topic #0: moins cas travail monde leurs person...   \n",
       "1  Topic #0: saison équipe joueurs monde club cou...   \n",
       "\n",
       "                                                   1  \\\n",
       "0  Topic #1: news découvrez photos interprète der...   \n",
       "1  Topic #1: courses pronostics résultats gauche ...   \n",
       "\n",
       "                                                   2  \\\n",
       "0  Topic #2: vie famille fille enfants mère amour...   \n",
       "1  Topic #2: match but buts jeu victoire score pé...   \n",
       "\n",
       "                                                   3  \\\n",
       "0  Topic #3: film cinéma polanski réalisateur rom...   \n",
       "1  Topic #3: masters finale nadal djokovic federe...   \n",
       "\n",
       "                                                   4  \\\n",
       "0  Topic #4: femmes violences hommes elles victim...   \n",
       "1  Topic #4: direct live suivez match rencontre f...   \n",
       "\n",
       "                                                   5  \\\n",
       "0  Topic #5: homme jeune victime femme faits voit...   \n",
       "1  Topic #5: ligue champions garcia lyon marseill...   \n",
       "\n",
       "                                                   6  \n",
       "0  Topic #6: jeu vidéo jeux version série joueurs...  \n",
       "1  Topic #6: points rebonds nba passes pts lakers...  "
      ]
     },
     "execution_count": 41,
     "metadata": {},
     "output_type": "execute_result"
    }
   ],
   "source": [
    "pd.DataFrame.from_dict(global_list_topics_name).T.to_csv(path_results+file_sub_topics_desc,index=False)\n",
    "pd.DataFrame.from_dict(global_list_topics_name).T.head(2)"
   ]
  },
  {
   "cell_type": "markdown",
   "metadata": {},
   "source": [
    "## Save the whole dataset: topics and sub topics"
   ]
  },
  {
   "cell_type": "code",
   "execution_count": 42,
   "metadata": {},
   "outputs": [
    {
     "data": {
      "text/html": [
       "<div>\n",
       "<style scoped>\n",
       "    .dataframe tbody tr th:only-of-type {\n",
       "        vertical-align: middle;\n",
       "    }\n",
       "\n",
       "    .dataframe tbody tr th {\n",
       "        vertical-align: top;\n",
       "    }\n",
       "\n",
       "    .dataframe thead th {\n",
       "        text-align: right;\n",
       "    }\n",
       "</style>\n",
       "<table border=\"1\" class=\"dataframe\">\n",
       "  <thead>\n",
       "    <tr style=\"text-align: right;\">\n",
       "      <th></th>\n",
       "      <th>topic0</th>\n",
       "      <th>topic1</th>\n",
       "      <th>topic2</th>\n",
       "      <th>topic3</th>\n",
       "      <th>topic4</th>\n",
       "      <th>topic5</th>\n",
       "      <th>topic6</th>\n",
       "      <th>topic7</th>\n",
       "      <th>topic8</th>\n",
       "      <th>topic9</th>\n",
       "      <th>...</th>\n",
       "      <th>text_mod</th>\n",
       "      <th>topic_principal</th>\n",
       "      <th>sub_topic0</th>\n",
       "      <th>sub_topic1</th>\n",
       "      <th>sub_topic2</th>\n",
       "      <th>sub_topic3</th>\n",
       "      <th>sub_topic4</th>\n",
       "      <th>sub_topic5</th>\n",
       "      <th>sub_topic6</th>\n",
       "      <th>sub_topic_principal</th>\n",
       "    </tr>\n",
       "  </thead>\n",
       "  <tbody>\n",
       "    <tr>\n",
       "      <th>0</th>\n",
       "      <td>0.016472</td>\n",
       "      <td>0.005967</td>\n",
       "      <td>0.0</td>\n",
       "      <td>0.003277</td>\n",
       "      <td>0.002095</td>\n",
       "      <td>0.000000</td>\n",
       "      <td>0.000000</td>\n",
       "      <td>0.002520</td>\n",
       "      <td>0.000000</td>\n",
       "      <td>0.001228</td>\n",
       "      <td>...</td>\n",
       "      <td>comment berner système reconnaissance image co...</td>\n",
       "      <td>0</td>\n",
       "      <td>0.027163</td>\n",
       "      <td>0.000854</td>\n",
       "      <td>0.00000</td>\n",
       "      <td>0.00053</td>\n",
       "      <td>0.000000</td>\n",
       "      <td>0.0</td>\n",
       "      <td>0.015737</td>\n",
       "      <td>0</td>\n",
       "    </tr>\n",
       "    <tr>\n",
       "      <th>9</th>\n",
       "      <td>0.009965</td>\n",
       "      <td>0.000000</td>\n",
       "      <td>0.0</td>\n",
       "      <td>0.000000</td>\n",
       "      <td>0.000000</td>\n",
       "      <td>0.003742</td>\n",
       "      <td>0.000282</td>\n",
       "      <td>0.009424</td>\n",
       "      <td>0.003857</td>\n",
       "      <td>0.002007</td>\n",
       "      <td>...</td>\n",
       "      <td>décès ans suisse chanteuse actrice marie lafor...</td>\n",
       "      <td>0</td>\n",
       "      <td>0.000000</td>\n",
       "      <td>0.004325</td>\n",
       "      <td>0.04155</td>\n",
       "      <td>0.00437</td>\n",
       "      <td>0.002158</td>\n",
       "      <td>0.0</td>\n",
       "      <td>0.000000</td>\n",
       "      <td>2</td>\n",
       "    </tr>\n",
       "  </tbody>\n",
       "</table>\n",
       "<p>2 rows × 27 columns</p>\n",
       "</div>"
      ],
      "text/plain": [
       "     topic0    topic1  topic2    topic3    topic4    topic5    topic6  \\\n",
       "0  0.016472  0.005967     0.0  0.003277  0.002095  0.000000  0.000000   \n",
       "9  0.009965  0.000000     0.0  0.000000  0.000000  0.003742  0.000282   \n",
       "\n",
       "     topic7    topic8    topic9  ...  \\\n",
       "0  0.002520  0.000000  0.001228  ...   \n",
       "9  0.009424  0.003857  0.002007  ...   \n",
       "\n",
       "                                            text_mod topic_principal  \\\n",
       "0  comment berner système reconnaissance image co...               0   \n",
       "9  décès ans suisse chanteuse actrice marie lafor...               0   \n",
       "\n",
       "  sub_topic0  sub_topic1  sub_topic2  sub_topic3  sub_topic4 sub_topic5  \\\n",
       "0   0.027163    0.000854     0.00000     0.00053    0.000000        0.0   \n",
       "9   0.000000    0.004325     0.04155     0.00437    0.002158        0.0   \n",
       "\n",
       "   sub_topic6  sub_topic_principal  \n",
       "0    0.015737                    0  \n",
       "9    0.000000                    2  \n",
       "\n",
       "[2 rows x 27 columns]"
      ]
     },
     "execution_count": 42,
     "metadata": {},
     "output_type": "execute_result"
    }
   ],
   "source": [
    "df_final_all_topics.to_csv(path_results+file_final_topics_subtopics,index=False)\n",
    "df_final_all_topics.head(2)"
   ]
  },
  {
   "cell_type": "markdown",
   "metadata": {},
   "source": [
    "## Classification"
   ]
  },
  {
   "cell_type": "code",
   "execution_count": 43,
   "metadata": {
    "scrolled": false
   },
   "outputs": [
    {
     "name": "stdout",
     "output_type": "stream",
     "text": [
      "Topic # 0\n",
      "in transform vectorizer:\n",
      "60.240s. 1.00min.\n",
      "in build general dataset:\n",
      "1.810s. 0.00min.\n",
      "in build classif dataset:\n",
      "2.252s. 0.00min.\n",
      "in split data: train, valid, test:\n",
      "20.594s. 0.30min.\n",
      "in fit model:\n",
      "39.608s. 0.70min.\n",
      "in predict model:\n",
      "accuracy valid set 0.834962673302524\n",
      "accuracy test set 0.8272307145396374\n",
      "0.872s. 0.00min.\n",
      "\n",
      "Topic # 1\n",
      "in transform vectorizer:\n",
      "29.734s. 0.50min.\n",
      "in build general dataset:\n",
      "1.419s. 0.00min.\n",
      "in build classif dataset:\n",
      "1.135s. 0.00min.\n",
      "in split data: train, valid, test:\n",
      "13.917s. 0.20min.\n",
      "in fit model:\n",
      "23.498s. 0.40min.\n",
      "in predict model:\n",
      "accuracy valid set 0.8474514563106796\n",
      "accuracy test set 0.8495145631067961\n",
      "0.649s. 0.00min.\n",
      "\n",
      "Topic # 2\n",
      "in transform vectorizer:\n",
      "8.754s. 0.10min.\n",
      "in build general dataset:\n",
      "0.275s. 0.00min.\n",
      "in build classif dataset:\n",
      "0.713s. 0.00min.\n",
      "in split data: train, valid, test:\n",
      "4.083s. 0.10min.\n",
      "in fit model:\n",
      "3.105s. 0.10min.\n",
      "in predict model:\n",
      "accuracy valid set 0.926726410121244\n",
      "accuracy test set 0.9240906694781233\n",
      "0.226s. 0.00min.\n",
      "\n",
      "Topic # 3\n",
      "in transform vectorizer:\n",
      "33.463s. 0.60min.\n",
      "in build general dataset:\n",
      "1.029s. 0.00min.\n",
      "in build classif dataset:\n",
      "1.014s. 0.00min.\n",
      "in split data: train, valid, test:\n",
      "11.374s. 0.20min.\n",
      "in fit model:\n",
      "16.739s. 0.30min.\n",
      "in predict model:\n",
      "accuracy valid set 0.8366150608747933\n",
      "accuracy test set 0.8424770780099203\n",
      "0.468s. 0.00min.\n",
      "\n",
      "Topic # 4\n",
      "in transform vectorizer:\n",
      "6.676s. 0.10min.\n",
      "in build general dataset:\n",
      "0.251s. 0.00min.\n",
      "in build classif dataset:\n",
      "0.716s. 0.00min.\n",
      "in split data: train, valid, test:\n",
      "2.997s. 0.00min.\n",
      "in fit model:\n",
      "1.162s. 0.00min.\n",
      "in predict model:\n",
      "accuracy valid set 0.9724919093851133\n",
      "accuracy test set 0.9716828478964401\n",
      "0.198s. 0.00min.\n",
      "\n",
      "Topic # 5\n",
      "in transform vectorizer:\n",
      "41.533s. 0.70min.\n",
      "in build general dataset:\n",
      "1.749s. 0.00min.\n",
      "in build classif dataset:\n",
      "1.066s. 0.00min.\n",
      "in split data: train, valid, test:\n",
      "19.546s. 0.30min.\n",
      "in fit model:\n",
      "41.312s. 0.70min.\n",
      "in predict model:\n",
      "accuracy valid set 0.8619570644033949\n",
      "accuracy test set 0.8577966383757697\n",
      "0.750s. 0.00min.\n",
      "\n",
      "Topic # 6\n",
      "in transform vectorizer:\n",
      "7.225s. 0.10min.\n",
      "in build general dataset:\n",
      "0.411s. 0.00min.\n",
      "in build classif dataset:\n",
      "0.467s. 0.00min.\n",
      "in split data: train, valid, test:\n",
      "3.682s. 0.10min.\n",
      "in fit model:\n",
      "5.303s. 0.10min.\n",
      "in predict model:\n",
      "accuracy valid set 0.8565906455353691\n",
      "accuracy test set 0.8906068805566293\n",
      "0.193s. 0.00min.\n",
      "\n",
      "Topic # 7\n",
      "in transform vectorizer:\n",
      "10.477s. 0.20min.\n",
      "in build general dataset:\n",
      "0.333s. 0.00min.\n",
      "in build classif dataset:\n",
      "0.762s. 0.00min.\n",
      "in split data: train, valid, test:\n",
      "4.702s. 0.10min.\n",
      "in fit model:\n",
      "4.665s. 0.10min.\n",
      "in predict model:\n",
      "accuracy valid set 0.9477911646586346\n",
      "accuracy test set 0.9497991967871486\n",
      "0.280s. 0.00min.\n",
      "\n",
      "Topic # 8\n",
      "in transform vectorizer:\n",
      "56.760s. 0.90min.\n",
      "in build general dataset:\n",
      "1.948s. 0.00min.\n",
      "in build classif dataset:\n",
      "1.232s. 0.00min.\n",
      "in split data: train, valid, test:\n",
      "19.545s. 0.30min.\n",
      "in fit model:\n",
      "31.542s. 0.50min.\n",
      "in predict model:\n",
      "accuracy valid set 0.8933148916551407\n",
      "accuracy test set 0.8895343476256339\n",
      "0.745s. 0.00min.\n",
      "\n",
      "Topic # 9\n",
      "in transform vectorizer:\n",
      "16.975s. 0.30min.\n",
      "in build general dataset:\n",
      "0.558s. 0.00min.\n",
      "in build classif dataset:\n",
      "0.847s. 0.00min.\n",
      "in split data: train, valid, test:\n",
      "451.102s. 7.50min.\n",
      "in fit model:\n",
      "15.036s. 0.30min.\n",
      "in predict model:\n",
      "accuracy valid set 0.9130896727581811\n",
      "accuracy test set 0.9173395665108373\n",
      "0.416s. 0.00min.\n",
      "\n"
     ]
    }
   ],
   "source": [
    "for i in range(0,10):\n",
    "    df_sub_classif=df_final_all_topics.query(\"topic_principal==@i\")\n",
    "    filename = \"tfidf_1000_sub_topic_\"+str(i)+\".sav\"\n",
    "    tfidf_vectorizer_sub= pickle.load(open(path_results+filename, 'rb'))\n",
    "    filename = \"nmf_tfidf_7_sub_topic_\"+str(i)+\".sav\"\n",
    "    nmf_tfidf_sub= pickle.load(open(path_results+filename, 'rb'))\n",
    "    print(\"Topic # \"+str(i))\n",
    "#     df_nmf_tfidf_sub,_, _,_,_,_,_,_,_,acc_valid_nmf_tfidf_sub,acc_test_nmf_tfidf_sub=\n",
    "    classif_dataset(nmf_tfidf_sub,tfidf_vectorizer_sub,df_sub_classif,7,10)\n",
    "    print()"
   ]
  },
  {
   "cell_type": "markdown",
   "metadata": {},
   "source": [
    "# VISUALIZATION"
   ]
  },
  {
   "cell_type": "code",
   "execution_count": 44,
   "metadata": {},
   "outputs": [],
   "source": [
    "df_to_plot=df_nmf_tfidf.copy() #other dataframes: df_nmf_cv, df_lda_tfidf, df_lda_cv\n",
    "model_name='nmf_tfidf' #others: 'nmf_cv', 'lda_tfidf', 'lda_cv' (df_topics_name['model'].unique())"
   ]
  },
  {
   "cell_type": "markdown",
   "metadata": {},
   "source": [
    "## Principal topics"
   ]
  },
  {
   "cell_type": "code",
   "execution_count": 45,
   "metadata": {},
   "outputs": [
    {
     "data": {
      "text/html": [
       "<div>\n",
       "<style scoped>\n",
       "    .dataframe tbody tr th:only-of-type {\n",
       "        vertical-align: middle;\n",
       "    }\n",
       "\n",
       "    .dataframe tbody tr th {\n",
       "        vertical-align: top;\n",
       "    }\n",
       "\n",
       "    .dataframe thead th {\n",
       "        text-align: right;\n",
       "    }\n",
       "</style>\n",
       "<table border=\"1\" class=\"dataframe\">\n",
       "  <thead>\n",
       "    <tr style=\"text-align: right;\">\n",
       "      <th></th>\n",
       "      <th>topics_desc</th>\n",
       "    </tr>\n",
       "  </thead>\n",
       "  <tbody>\n",
       "    <tr>\n",
       "      <th>0</th>\n",
       "      <td>Topic #0: vie jeune monde femme homme femmes f...</td>\n",
       "    </tr>\n",
       "    <tr>\n",
       "      <th>1</th>\n",
       "      <td>Topic #1: match équipe saison points ligue vic...</td>\n",
       "    </tr>\n",
       "    <tr>\n",
       "      <th>2</th>\n",
       "      <td>Topic #2: the and you for film films série cin...</td>\n",
       "    </tr>\n",
       "    <tr>\n",
       "      <th>3</th>\n",
       "      <td>Topic #3: euros millions milliards prix groupe...</td>\n",
       "    </tr>\n",
       "    <tr>\n",
       "      <th>4</th>\n",
       "      <td>Topic #4: cookies privacy site web paramètres ...</td>\n",
       "    </tr>\n",
       "    <tr>\n",
       "      <th>5</th>\n",
       "      <td>Topic #5: saint noël ville association heures ...</td>\n",
       "    </tr>\n",
       "    <tr>\n",
       "      <th>6</th>\n",
       "      <td>Topic #6: psg real club madrid mercato ligue p...</td>\n",
       "    </tr>\n",
       "    <tr>\n",
       "      <th>7</th>\n",
       "      <td>Topic #7: alerte article facebook twitter appl...</td>\n",
       "    </tr>\n",
       "    <tr>\n",
       "      <th>8</th>\n",
       "      <td>Topic #8: président gouvernement pays ministre...</td>\n",
       "    </tr>\n",
       "    <tr>\n",
       "      <th>9</th>\n",
       "      <td>Topic #9: france coupe français paris monde to...</td>\n",
       "    </tr>\n",
       "  </tbody>\n",
       "</table>\n",
       "</div>"
      ],
      "text/plain": [
       "                                         topics_desc\n",
       "0  Topic #0: vie jeune monde femme homme femmes f...\n",
       "1  Topic #1: match équipe saison points ligue vic...\n",
       "2  Topic #2: the and you for film films série cin...\n",
       "3  Topic #3: euros millions milliards prix groupe...\n",
       "4  Topic #4: cookies privacy site web paramètres ...\n",
       "5  Topic #5: saint noël ville association heures ...\n",
       "6  Topic #6: psg real club madrid mercato ligue p...\n",
       "7  Topic #7: alerte article facebook twitter appl...\n",
       "8  Topic #8: président gouvernement pays ministre...\n",
       "9  Topic #9: france coupe français paris monde to..."
      ]
     },
     "execution_count": 45,
     "metadata": {},
     "output_type": "execute_result"
    }
   ],
   "source": [
    "df_topics_name.query(\"model==@model_name\")[['topics_desc']]"
   ]
  },
  {
   "cell_type": "code",
   "execution_count": 46,
   "metadata": {},
   "outputs": [
    {
     "data": {
      "text/plain": [
       "<matplotlib.axes._subplots.AxesSubplot at 0x296c4685648>"
      ]
     },
     "execution_count": 46,
     "metadata": {},
     "output_type": "execute_result"
    },
    {
     "data": {
      "image/png": "[encoded data removed]",
      "text/plain": [
       "<Figure size 432x360 with 1 Axes>"
      ]
     },
     "metadata": {},
     "output_type": "display_data"
    }
   ],
   "source": [
    "cols_topics=['topic'+str(i) for i in range(0,n_topics_principal)]\n",
    "df_to_plot.query('month==11').groupby('day')[cols_topics].mean().plot(figsize=(6,5))"
   ]
  },
  {
   "cell_type": "markdown",
   "metadata": {},
   "source": [
    "## Sub-Topics"
   ]
  },
  {
   "cell_type": "code",
   "execution_count": 47,
   "metadata": {},
   "outputs": [
    {
     "data": {
      "text/plain": [
       "0    Topic #0: descriptifs abonner exclusives inter...\n",
       "1    Topic #1: you verizon your media ads partners ...\n",
       "2    Topic #2: film série saison netflix the cinéma...\n",
       "3    Topic #3: the and that you for with have are t...\n",
       "4    Topic #4: fusion not media and trading prices ...\n",
       "5    Topic #5: jeu xbox jeux nintendo switch vidéo ...\n",
       "6    Topic #6: album groupe the concert rock nouvel...\n",
       "Name: 2, dtype: object"
      ]
     },
     "execution_count": 47,
     "metadata": {},
     "output_type": "execute_result"
    }
   ],
   "source": [
    "prinicpal_topic=2\n",
    "pd.DataFrame.from_dict(global_list_topics_name).T.iloc[prinicpal_topic,:]"
   ]
  },
  {
   "cell_type": "code",
   "execution_count": 48,
   "metadata": {},
   "outputs": [
    {
     "data": {
      "text/plain": [
       "<matplotlib.axes._subplots.AxesSubplot at 0x29642741d48>"
      ]
     },
     "execution_count": 48,
     "metadata": {},
     "output_type": "execute_result"
    },
    {
     "data": {
      "image/png": "[encoded data removed]",
      "text/plain": [
       "<Figure size 432x360 with 1 Axes>"
      ]
     },
     "metadata": {},
     "output_type": "display_data"
    }
   ],
   "source": [
    "col_sub_topics=['sub_topic'+str(i) for i in range(0,n_sub_topics)]\n",
    "df_ss_topic=df_final_all_topics.query('topic_principal==@prinicpal_topic and month==11').groupby(['day'])[col_sub_topics].mean()\n",
    "df_ss_topic.plot(figsize=(6,5))"
   ]
  },
  {
   "cell_type": "markdown",
   "metadata": {},
   "source": [
    "# Real world run "
   ]
  },
  {
   "cell_type": "markdown",
   "metadata": {},
   "source": [
    "## get one line, load model (tfidf, nmf) and then load the adequat sub-topic model (tfidf, nmf)"
   ]
  },
  {
   "cell_type": "code",
   "execution_count": 49,
   "metadata": {},
   "outputs": [],
   "source": [
    "# ************Global topic: load and transform*************\n",
    "def load_global_model():\n",
    "    filename = 'tfidf_1000.sav'\n",
    "    tfidf_global_load = pickle.load(open(path_results+filename, 'rb'))\n",
    "\n",
    "    filename = 'nmf_tfidf_10.sav'\n",
    "    nmf_global_load=pickle.load(open(path_results+filename, 'rb'))\n",
    "    \n",
    "    return tfidf_global_load, nmf_global_load\n",
    "\n",
    "def run_global_model(text):\n",
    "    tfidf_global_load, nmf_global_load=load_global_model()\n",
    "    \n",
    "    tfidf_transform=tfidf_global_load.transform(text)\n",
    "    nmf_transform=nmf_global_load.transform(tfidf_transform)\n",
    "    topic_numbers=[]\n",
    "    desc_global_topics=[]\n",
    "    df_global_topics_desc=pd.read_csv(path_results+file_principal_topic_desc_nmf)\n",
    "    df_global_topics_desc['topic_number']=df_global_topics_desc['topics_desc'].apply(lambda x:int(x[:8][-1]))\n",
    "    for i in range(0,len(nmf_transform)):\n",
    "        topic_number=nmf_transform[i].argsort()[:1:-1][0]\n",
    "        topic_numbers.append(topic_number)\n",
    "        desc_global_topic=df_global_topics_desc.query(\"topic_number==@topic_number\")['topics_desc'].values[0]\n",
    "        desc_global_topics.append(desc_global_topic)\n",
    "    return topic_numbers,desc_global_topics\n",
    "\n",
    "\n",
    "# ************Sub topics: load and transform*************\n",
    "def load_sub_topics_model(topic_number):\n",
    "    filename = \"tfidf_1000_sub_topic_\"+str(topic_number)+\".sav\"\n",
    "    tfidf_sub_topic_load = pickle.load(open(path_results+filename, 'rb'))\n",
    "    \n",
    "    filename = \"nmf_tfidf_7_sub_topic_\"+str(topic_number)+\".sav\"\n",
    "    nmf_sub_topic_load=pickle.load(open(path_results+filename, 'rb'))\n",
    "    \n",
    "    return tfidf_sub_topic_load,nmf_sub_topic_load\n",
    "\n",
    "def run_sub_topic_model(text,topic_numbers):\n",
    "    \n",
    "    sub_topic_numbers=[]\n",
    "    desc_sub_topics=[]\n",
    "    df_sub_topics_desc=pd.read_csv(path_results+file_sub_topics_desc)\n",
    "    \n",
    "    for i,topic_number in enumerate(topic_numbers):\n",
    "        tfidf_sub_topic_load,nmf_sub_topic_load=load_sub_topics_model(topic_number)\n",
    "    \n",
    "        tfidf_transform=tfidf_sub_topic_load.transform([text[i]])\n",
    "#         tfidf_transform=tfidf_sub_topic_load.transform([text.values[i]])\n",
    "        nmf_transform=nmf_sub_topic_load.transform(tfidf_transform)\n",
    "        sub_topic_number=nmf_transform[0].argsort()[:1:-1][0]\n",
    "        sub_topic_numbers.append(sub_topic_number)\n",
    "        \n",
    "        desc_sub_topic=df_sub_topics_desc.iloc[topic_number,sub_topic_number]\n",
    "        desc_sub_topics.append(desc_sub_topic)\n",
    "        \n",
    "    return sub_topic_numbers,desc_sub_topics\n",
    "\n",
    "#************Global run: topic and sub topic*************\n",
    "def run_all(text):\n",
    "    topic_numbers,desc_global_topics=run_global_model(text)\n",
    "    sub_topic_numbers,desc_sub_topics=run_sub_topic_model(text,topic_numbers)\n",
    "    return topic_numbers,desc_global_topics,sub_topic_numbers,desc_sub_topics"
   ]
  },
  {
   "cell_type": "code",
   "execution_count": 50,
   "metadata": {},
   "outputs": [
    {
     "name": "stdout",
     "output_type": "stream",
     "text": [
      "Wall time: 6.06 s\n"
     ]
    }
   ],
   "source": [
    "%%time\n",
    "# source['text']=source['title'][100:120]+\" \"+source['body'][100:120]\n",
    "test_text=source['text'][100:120]\n",
    "tokens_mod, _, _ = preprocessing(test_text)\n",
    "topic_numbers,desc_global_topics,sub_topic_numbers,desc_sub_topics=run_all(tokens_mod)"
   ]
  },
  {
   "cell_type": "code",
   "execution_count": 51,
   "metadata": {},
   "outputs": [
    {
     "data": {
      "text/html": [
       "<div>\n",
       "<style scoped>\n",
       "    .dataframe tbody tr th:only-of-type {\n",
       "        vertical-align: middle;\n",
       "    }\n",
       "\n",
       "    .dataframe tbody tr th {\n",
       "        vertical-align: top;\n",
       "    }\n",
       "\n",
       "    .dataframe thead th {\n",
       "        text-align: right;\n",
       "    }\n",
       "</style>\n",
       "<table border=\"1\" class=\"dataframe\">\n",
       "  <thead>\n",
       "    <tr style=\"text-align: right;\">\n",
       "      <th></th>\n",
       "      <th>text</th>\n",
       "      <th>topic_principal</th>\n",
       "      <th>topic_principal_desc</th>\n",
       "      <th>sub_topic</th>\n",
       "      <th>sub_topic_desc</th>\n",
       "    </tr>\n",
       "  </thead>\n",
       "  <tbody>\n",
       "    <tr>\n",
       "      <th>100</th>\n",
       "      <td>Tatouage. Dans la peau d’une Ink Girl Tatouage...</td>\n",
       "      <td>0</td>\n",
       "      <td>Topic #0: vie jeune monde femme homme femmes f...</td>\n",
       "      <td>5</td>\n",
       "      <td>Topic #5: homme jeune victime femme faits voit...</td>\n",
       "    </tr>\n",
       "    <tr>\n",
       "      <th>101</th>\n",
       "      <td>Orange confirme ses objectifs, mais la France ...</td>\n",
       "      <td>3</td>\n",
       "      <td>Topic #3: euros millions milliards prix groupe...</td>\n",
       "      <td>6</td>\n",
       "      <td>Topic #6: trimestre chiffre croissance affaire...</td>\n",
       "    </tr>\n",
       "    <tr>\n",
       "      <th>102</th>\n",
       "      <td>Equipe de France : Grosse info pour Adrien Rab...</td>\n",
       "      <td>9</td>\n",
       "      <td>Topic #9: france coupe français paris monde to...</td>\n",
       "      <td>2</td>\n",
       "      <td>Topic #2: euro bleus deschamps groupe équipe m...</td>\n",
       "    </tr>\n",
       "    <tr>\n",
       "      <th>103</th>\n",
       "      <td>Liban: les soutiens du président Aoun se mobil...</td>\n",
       "      <td>8</td>\n",
       "      <td>Topic #8: président gouvernement pays ministre...</td>\n",
       "      <td>6</td>\n",
       "      <td>Topic #6: pays morts nord sud personnes iran a...</td>\n",
       "    </tr>\n",
       "    <tr>\n",
       "      <th>104</th>\n",
       "      <td>À Chanteloup-les-Vignes, une violence persista...</td>\n",
       "      <td>5</td>\n",
       "      <td>Topic #5: saint noël ville association heures ...</td>\n",
       "      <td>0</td>\n",
       "      <td>Topic #0: ville maire projet conseil travaux c...</td>\n",
       "    </tr>\n",
       "    <tr>\n",
       "      <th>105</th>\n",
       "      <td>Concert. Archive : à Brest et Lorient, « je me...</td>\n",
       "      <td>9</td>\n",
       "      <td>Topic #9: france coupe français paris monde to...</td>\n",
       "      <td>0</td>\n",
       "      <td>Topic #0: france paris français pays personnes...</td>\n",
       "    </tr>\n",
       "    <tr>\n",
       "      <th>106</th>\n",
       "      <td>La future Mercedes AMG GT en fuite ? La Merced...</td>\n",
       "      <td>0</td>\n",
       "      <td>Topic #0: vie jeune monde femme homme femmes f...</td>\n",
       "      <td>2</td>\n",
       "      <td>Topic #2: vie famille fille enfants mère amour...</td>\n",
       "    </tr>\n",
       "    <tr>\n",
       "      <th>107</th>\n",
       "      <td>Matt Pokora très complice avec la fille de Chr...</td>\n",
       "      <td>0</td>\n",
       "      <td>Topic #0: vie jeune monde femme homme femmes f...</td>\n",
       "      <td>2</td>\n",
       "      <td>Topic #2: vie famille fille enfants mère amour...</td>\n",
       "    </tr>\n",
       "    <tr>\n",
       "      <th>108</th>\n",
       "      <td>Un wallaby, un alpaga... Ces animaux insolites...</td>\n",
       "      <td>0</td>\n",
       "      <td>Topic #0: vie jeune monde femme homme femmes f...</td>\n",
       "      <td>2</td>\n",
       "      <td>Topic #2: vie famille fille enfants mère amour...</td>\n",
       "    </tr>\n",
       "    <tr>\n",
       "      <th>109</th>\n",
       "      <td>Un détenu se pend dans sa cellule avec un lace...</td>\n",
       "      <td>8</td>\n",
       "      <td>Topic #8: président gouvernement pays ministre...</td>\n",
       "      <td>2</td>\n",
       "      <td>Topic #2: police prison justice enquête violen...</td>\n",
       "    </tr>\n",
       "    <tr>\n",
       "      <th>110</th>\n",
       "      <td>«STOP à l’islamophie»: des personnalités appel...</td>\n",
       "      <td>9</td>\n",
       "      <td>Topic #9: france coupe français paris monde to...</td>\n",
       "      <td>0</td>\n",
       "      <td>Topic #0: france paris français pays personnes...</td>\n",
       "    </tr>\n",
       "    <tr>\n",
       "      <th>111</th>\n",
       "      <td>La Chapelle-Anthenaise. Musique et produits lo...</td>\n",
       "      <td>5</td>\n",
       "      <td>Topic #5: saint noël ville association heures ...</td>\n",
       "      <td>5</td>\n",
       "      <td>Topic #5: heures association salle festival co...</td>\n",
       "    </tr>\n",
       "    <tr>\n",
       "      <th>112</th>\n",
       "      <td>Une intiation au catch au centre commercial Au...</td>\n",
       "      <td>5</td>\n",
       "      <td>Topic #5: saint noël ville association heures ...</td>\n",
       "      <td>5</td>\n",
       "      <td>Topic #5: heures association salle festival co...</td>\n",
       "    </tr>\n",
       "    <tr>\n",
       "      <th>113</th>\n",
       "      <td>Ligue 1 : tout ce qu'il faut savoir avant Sain...</td>\n",
       "      <td>1</td>\n",
       "      <td>Topic #1: match équipe saison points ligue vic...</td>\n",
       "      <td>5</td>\n",
       "      <td>Topic #5: ligue champions garcia lyon marseill...</td>\n",
       "    </tr>\n",
       "    <tr>\n",
       "      <th>114</th>\n",
       "      <td>Avec Anne Roumanoff à l’Espace culturel de Bar...</td>\n",
       "      <td>5</td>\n",
       "      <td>Topic #5: saint noël ville association heures ...</td>\n",
       "      <td>5</td>\n",
       "      <td>Topic #5: heures association salle festival co...</td>\n",
       "    </tr>\n",
       "    <tr>\n",
       "      <th>115</th>\n",
       "      <td>Le mini-bus d’une équipe de basket iséroise he...</td>\n",
       "      <td>1</td>\n",
       "      <td>Topic #1: match équipe saison points ligue vic...</td>\n",
       "      <td>0</td>\n",
       "      <td>Topic #0: saison équipe joueurs monde club cou...</td>\n",
       "    </tr>\n",
       "    <tr>\n",
       "      <th>116</th>\n",
       "      <td>F1 - Ferrari aurait perdu en vitesse de pointe...</td>\n",
       "      <td>1</td>\n",
       "      <td>Topic #1: match équipe saison points ligue vic...</td>\n",
       "      <td>0</td>\n",
       "      <td>Topic #0: saison équipe joueurs monde club cou...</td>\n",
       "    </tr>\n",
       "    <tr>\n",
       "      <th>117</th>\n",
       "      <td>RENCONTRE. L'humoriste belge Manon Lepomme pen...</td>\n",
       "      <td>0</td>\n",
       "      <td>Topic #0: vie jeune monde femme homme femmes f...</td>\n",
       "      <td>2</td>\n",
       "      <td>Topic #2: vie famille fille enfants mère amour...</td>\n",
       "    </tr>\n",
       "    <tr>\n",
       "      <th>118</th>\n",
       "      <td>F1 - GP des Etats-Unis : La grille de départ F...</td>\n",
       "      <td>8</td>\n",
       "      <td>Topic #8: président gouvernement pays ministre...</td>\n",
       "      <td>1</td>\n",
       "      <td>Topic #1: trump donald président américain uni...</td>\n",
       "    </tr>\n",
       "    <tr>\n",
       "      <th>119</th>\n",
       "      <td>AGGLO HERAULT MEDITERRANEE - L'agglo limite le...</td>\n",
       "      <td>5</td>\n",
       "      <td>Topic #5: saint noël ville association heures ...</td>\n",
       "      <td>0</td>\n",
       "      <td>Topic #0: ville maire projet conseil travaux c...</td>\n",
       "    </tr>\n",
       "  </tbody>\n",
       "</table>\n",
       "</div>"
      ],
      "text/plain": [
       "                                                  text  topic_principal  \\\n",
       "100  Tatouage. Dans la peau d’une Ink Girl Tatouage...                0   \n",
       "101  Orange confirme ses objectifs, mais la France ...                3   \n",
       "102  Equipe de France : Grosse info pour Adrien Rab...                9   \n",
       "103  Liban: les soutiens du président Aoun se mobil...                8   \n",
       "104  À Chanteloup-les-Vignes, une violence persista...                5   \n",
       "105  Concert. Archive : à Brest et Lorient, « je me...                9   \n",
       "106  La future Mercedes AMG GT en fuite ? La Merced...                0   \n",
       "107  Matt Pokora très complice avec la fille de Chr...                0   \n",
       "108  Un wallaby, un alpaga... Ces animaux insolites...                0   \n",
       "109  Un détenu se pend dans sa cellule avec un lace...                8   \n",
       "110  «STOP à l’islamophie»: des personnalités appel...                9   \n",
       "111  La Chapelle-Anthenaise. Musique et produits lo...                5   \n",
       "112  Une intiation au catch au centre commercial Au...                5   \n",
       "113  Ligue 1 : tout ce qu'il faut savoir avant Sain...                1   \n",
       "114  Avec Anne Roumanoff à l’Espace culturel de Bar...                5   \n",
       "115  Le mini-bus d’une équipe de basket iséroise he...                1   \n",
       "116  F1 - Ferrari aurait perdu en vitesse de pointe...                1   \n",
       "117  RENCONTRE. L'humoriste belge Manon Lepomme pen...                0   \n",
       "118  F1 - GP des Etats-Unis : La grille de départ F...                8   \n",
       "119  AGGLO HERAULT MEDITERRANEE - L'agglo limite le...                5   \n",
       "\n",
       "                                  topic_principal_desc  sub_topic  \\\n",
       "100  Topic #0: vie jeune monde femme homme femmes f...          5   \n",
       "101  Topic #3: euros millions milliards prix groupe...          6   \n",
       "102  Topic #9: france coupe français paris monde to...          2   \n",
       "103  Topic #8: président gouvernement pays ministre...          6   \n",
       "104  Topic #5: saint noël ville association heures ...          0   \n",
       "105  Topic #9: france coupe français paris monde to...          0   \n",
       "106  Topic #0: vie jeune monde femme homme femmes f...          2   \n",
       "107  Topic #0: vie jeune monde femme homme femmes f...          2   \n",
       "108  Topic #0: vie jeune monde femme homme femmes f...          2   \n",
       "109  Topic #8: président gouvernement pays ministre...          2   \n",
       "110  Topic #9: france coupe français paris monde to...          0   \n",
       "111  Topic #5: saint noël ville association heures ...          5   \n",
       "112  Topic #5: saint noël ville association heures ...          5   \n",
       "113  Topic #1: match équipe saison points ligue vic...          5   \n",
       "114  Topic #5: saint noël ville association heures ...          5   \n",
       "115  Topic #1: match équipe saison points ligue vic...          0   \n",
       "116  Topic #1: match équipe saison points ligue vic...          0   \n",
       "117  Topic #0: vie jeune monde femme homme femmes f...          2   \n",
       "118  Topic #8: président gouvernement pays ministre...          1   \n",
       "119  Topic #5: saint noël ville association heures ...          0   \n",
       "\n",
       "                                        sub_topic_desc  \n",
       "100  Topic #5: homme jeune victime femme faits voit...  \n",
       "101  Topic #6: trimestre chiffre croissance affaire...  \n",
       "102  Topic #2: euro bleus deschamps groupe équipe m...  \n",
       "103  Topic #6: pays morts nord sud personnes iran a...  \n",
       "104  Topic #0: ville maire projet conseil travaux c...  \n",
       "105  Topic #0: france paris français pays personnes...  \n",
       "106  Topic #2: vie famille fille enfants mère amour...  \n",
       "107  Topic #2: vie famille fille enfants mère amour...  \n",
       "108  Topic #2: vie famille fille enfants mère amour...  \n",
       "109  Topic #2: police prison justice enquête violen...  \n",
       "110  Topic #0: france paris français pays personnes...  \n",
       "111  Topic #5: heures association salle festival co...  \n",
       "112  Topic #5: heures association salle festival co...  \n",
       "113  Topic #5: ligue champions garcia lyon marseill...  \n",
       "114  Topic #5: heures association salle festival co...  \n",
       "115  Topic #0: saison équipe joueurs monde club cou...  \n",
       "116  Topic #0: saison équipe joueurs monde club cou...  \n",
       "117  Topic #2: vie famille fille enfants mère amour...  \n",
       "118  Topic #1: trump donald président américain uni...  \n",
       "119  Topic #0: ville maire projet conseil travaux c...  "
      ]
     },
     "execution_count": 51,
     "metadata": {},
     "output_type": "execute_result"
    }
   ],
   "source": [
    "df_results=pd.DataFrame(data=test_text)\n",
    "df_results['topic_principal']=topic_numbers\n",
    "df_results['topic_principal_desc']=desc_global_topics\n",
    "df_results['sub_topic']=sub_topic_numbers\n",
    "df_results['sub_topic_desc']=desc_sub_topics\n",
    "df_results"
   ]
  },
  {
   "cell_type": "code",
   "execution_count": 52,
   "metadata": {
    "scrolled": true
   },
   "outputs": [
    {
     "data": {
      "text/html": [
       "<div>\n",
       "<style scoped>\n",
       "    .dataframe tbody tr th:only-of-type {\n",
       "        vertical-align: middle;\n",
       "    }\n",
       "\n",
       "    .dataframe tbody tr th {\n",
       "        vertical-align: top;\n",
       "    }\n",
       "\n",
       "    .dataframe thead th {\n",
       "        text-align: right;\n",
       "    }\n",
       "</style>\n",
       "<table border=\"1\" class=\"dataframe\">\n",
       "  <thead>\n",
       "    <tr style=\"text-align: right;\">\n",
       "      <th></th>\n",
       "      <th>topic0</th>\n",
       "      <th>topic1</th>\n",
       "      <th>topic2</th>\n",
       "      <th>topic3</th>\n",
       "      <th>topic4</th>\n",
       "      <th>topic5</th>\n",
       "      <th>topic6</th>\n",
       "      <th>topic7</th>\n",
       "      <th>topic8</th>\n",
       "      <th>topic9</th>\n",
       "      <th>...</th>\n",
       "      <th>text_mod</th>\n",
       "      <th>topic_principal</th>\n",
       "      <th>sub_topic0</th>\n",
       "      <th>sub_topic1</th>\n",
       "      <th>sub_topic2</th>\n",
       "      <th>sub_topic3</th>\n",
       "      <th>sub_topic4</th>\n",
       "      <th>sub_topic5</th>\n",
       "      <th>sub_topic6</th>\n",
       "      <th>sub_topic_principal</th>\n",
       "    </tr>\n",
       "  </thead>\n",
       "  <tbody>\n",
       "    <tr>\n",
       "      <th>101</th>\n",
       "      <td>0.0</td>\n",
       "      <td>0.0</td>\n",
       "      <td>0.0</td>\n",
       "      <td>0.040118</td>\n",
       "      <td>0.0</td>\n",
       "      <td>0.0</td>\n",
       "      <td>0.0</td>\n",
       "      <td>0.009136</td>\n",
       "      <td>0.0</td>\n",
       "      <td>0.007025</td>\n",
       "      <td>...</td>\n",
       "      <td>orange confirme ses objectifs mais france déço...</td>\n",
       "      <td>3</td>\n",
       "      <td>0.005791</td>\n",
       "      <td>0.00204</td>\n",
       "      <td>0.002733</td>\n",
       "      <td>0.001607</td>\n",
       "      <td>0.012139</td>\n",
       "      <td>0.002356</td>\n",
       "      <td>0.050411</td>\n",
       "      <td>6</td>\n",
       "    </tr>\n",
       "  </tbody>\n",
       "</table>\n",
       "<p>1 rows × 27 columns</p>\n",
       "</div>"
      ],
      "text/plain": [
       "     topic0  topic1  topic2    topic3  topic4  topic5  topic6    topic7  \\\n",
       "101     0.0     0.0     0.0  0.040118     0.0     0.0     0.0  0.009136   \n",
       "\n",
       "     topic8    topic9  ...                                           text_mod  \\\n",
       "101     0.0  0.007025  ...  orange confirme ses objectifs mais france déço...   \n",
       "\n",
       "    topic_principal sub_topic0  sub_topic1  sub_topic2  sub_topic3  \\\n",
       "101               3   0.005791     0.00204    0.002733    0.001607   \n",
       "\n",
       "     sub_topic4 sub_topic5  sub_topic6  sub_topic_principal  \n",
       "101    0.012139   0.002356    0.050411                    6  \n",
       "\n",
       "[1 rows x 27 columns]"
      ]
     },
     "execution_count": 52,
     "metadata": {},
     "output_type": "execute_result"
    }
   ],
   "source": [
    "df_final_all_topics[df_final_all_topics.index==101]"
   ]
  },
  {
   "cell_type": "markdown",
   "metadata": {},
   "source": [
    "# Prepare Web Tool - Highcharts"
   ]
  },
  {
   "cell_type": "markdown",
   "metadata": {},
   "source": [
    "## Principal topics evolution ==> Save file"
   ]
  },
  {
   "cell_type": "code",
   "execution_count": 54,
   "metadata": {},
   "outputs": [
    {
     "name": "stdout",
     "output_type": "stream",
     "text": [
      "Wall time: 1min 2s\n"
     ]
    },
    {
     "data": {
      "text/html": [
       "<div>\n",
       "<style scoped>\n",
       "    .dataframe tbody tr th:only-of-type {\n",
       "        vertical-align: middle;\n",
       "    }\n",
       "\n",
       "    .dataframe tbody tr th {\n",
       "        vertical-align: top;\n",
       "    }\n",
       "\n",
       "    .dataframe thead th {\n",
       "        text-align: right;\n",
       "    }\n",
       "</style>\n",
       "<table border=\"1\" class=\"dataframe\">\n",
       "  <thead>\n",
       "    <tr style=\"text-align: right;\">\n",
       "      <th></th>\n",
       "      <th>topic0</th>\n",
       "      <th>topic1</th>\n",
       "      <th>topic2</th>\n",
       "      <th>topic3</th>\n",
       "      <th>topic4</th>\n",
       "      <th>topic5</th>\n",
       "      <th>topic6</th>\n",
       "      <th>topic7</th>\n",
       "      <th>topic8</th>\n",
       "      <th>topic9</th>\n",
       "    </tr>\n",
       "    <tr>\n",
       "      <th>day</th>\n",
       "      <th></th>\n",
       "      <th></th>\n",
       "      <th></th>\n",
       "      <th></th>\n",
       "      <th></th>\n",
       "      <th></th>\n",
       "      <th></th>\n",
       "      <th></th>\n",
       "      <th></th>\n",
       "      <th></th>\n",
       "    </tr>\n",
       "  </thead>\n",
       "  <tbody>\n",
       "    <tr>\n",
       "      <th>1</th>\n",
       "      <td>0.006098</td>\n",
       "      <td>0.006273</td>\n",
       "      <td>0.001984</td>\n",
       "      <td>0.004133</td>\n",
       "      <td>0.001598</td>\n",
       "      <td>0.006129</td>\n",
       "      <td>0.003180</td>\n",
       "      <td>0.003015</td>\n",
       "      <td>0.005961</td>\n",
       "      <td>0.003750</td>\n",
       "    </tr>\n",
       "    <tr>\n",
       "      <th>2</th>\n",
       "      <td>0.005774</td>\n",
       "      <td>0.009238</td>\n",
       "      <td>0.001552</td>\n",
       "      <td>0.002430</td>\n",
       "      <td>0.001426</td>\n",
       "      <td>0.006238</td>\n",
       "      <td>0.003278</td>\n",
       "      <td>0.002996</td>\n",
       "      <td>0.005452</td>\n",
       "      <td>0.004203</td>\n",
       "    </tr>\n",
       "    <tr>\n",
       "      <th>3</th>\n",
       "      <td>0.005854</td>\n",
       "      <td>0.008038</td>\n",
       "      <td>0.001510</td>\n",
       "      <td>0.002511</td>\n",
       "      <td>0.001610</td>\n",
       "      <td>0.006437</td>\n",
       "      <td>0.002825</td>\n",
       "      <td>0.003018</td>\n",
       "      <td>0.005437</td>\n",
       "      <td>0.004224</td>\n",
       "    </tr>\n",
       "  </tbody>\n",
       "</table>\n",
       "</div>"
      ],
      "text/plain": [
       "       topic0    topic1    topic2    topic3    topic4    topic5    topic6  \\\n",
       "day                                                                         \n",
       "1    0.006098  0.006273  0.001984  0.004133  0.001598  0.006129  0.003180   \n",
       "2    0.005774  0.009238  0.001552  0.002430  0.001426  0.006238  0.003278   \n",
       "3    0.005854  0.008038  0.001510  0.002511  0.001610  0.006437  0.002825   \n",
       "\n",
       "       topic7    topic8    topic9  \n",
       "day                                \n",
       "1    0.003015  0.005961  0.003750  \n",
       "2    0.002996  0.005452  0.004203  \n",
       "3    0.003018  0.005437  0.004224  "
      ]
     },
     "execution_count": 54,
     "metadata": {},
     "output_type": "execute_result"
    }
   ],
   "source": [
    "%%time\n",
    "col_topics=['topic'+str(i) for i in range(0,10)]\n",
    "df_principal_topic=df_final_all_topics.query('month==11').groupby(['day'])[col_topics].mean()\n",
    "df_principal_topic.head(3)"
   ]
  },
  {
   "cell_type": "code",
   "execution_count": 55,
   "metadata": {},
   "outputs": [],
   "source": [
    "df_principal_topic.to_csv(path_results+file_principal_topic_evol)"
   ]
  },
  {
   "cell_type": "markdown",
   "metadata": {},
   "source": [
    "## Sub Topics evolution ==> Save file"
   ]
  },
  {
   "cell_type": "code",
   "execution_count": 56,
   "metadata": {},
   "outputs": [],
   "source": [
    "col_sub_topics=['sub_topic'+str(i) for i in range(0,7)]\n",
    "df_sub_topic=df_final_all_topics.groupby(['topic_principal','month','day'])[col_sub_topics].mean()\n",
    "df_sub_topic=df_sub_topic.reset_index()"
   ]
  },
  {
   "cell_type": "code",
   "execution_count": 57,
   "metadata": {},
   "outputs": [],
   "source": [
    "df_sub_topic.query('month==11').groupby(['day','topic_principal'])[col_sub_topics].mean().reset_index().to_csv(path_results+file_sub_topics_evol,index=False)"
   ]
  },
  {
   "cell_type": "code",
   "execution_count": 58,
   "metadata": {},
   "outputs": [
    {
     "data": {
      "text/plain": [
       "<matplotlib.axes._subplots.AxesSubplot at 0x296aef097c8>"
      ]
     },
     "execution_count": 58,
     "metadata": {},
     "output_type": "execute_result"
    },
    {
     "data": {
      "image/png": "[encoded data removed]",
      "text/plain": [
       "<Figure size 720x576 with 1 Axes>"
      ]
     },
     "metadata": {},
     "output_type": "display_data"
    }
   ],
   "source": [
    "df_sub_topic.query('month==11 and topic_principal==0').groupby('day')[col_sub_topics].mean().plot(figsize=(10,8))\n",
    "# df_nmf_tfidf_ss.groupby('month')[cols_topics].mean().plot(figsize=(10,8))"
   ]
  }
 ],
 "metadata": {
  "kernelspec": {
   "display_name": "Python 3",
   "language": "python",
   "name": "python3"
  },
  "language_info": {
   "codemirror_mode": {
    "name": "ipython",
    "version": 3
   },
   "file_extension": ".py",
   "mimetype": "text/x-python",
   "name": "python",
   "nbconvert_exporter": "python",
   "pygments_lexer": "ipython3",
   "version": "3.7.6"
  },
  "toc": {
   "base_numbering": 1,
   "nav_menu": {
    "height": "253px",
    "width": "418px"
   },
   "number_sections": true,
   "sideBar": true,
   "skip_h1_title": false,
   "title_cell": "Table of Contents",
   "title_sidebar": "Contents",
   "toc_cell": false,
   "toc_position": {
    "height": "calc(100% - 180px)",
    "left": "10px",
    "top": "150px",
    "width": "256px"
   },
   "toc_section_display": true,
   "toc_window_display": true
  }
 },
 "nbformat": 4,
 "nbformat_minor": 4
}
